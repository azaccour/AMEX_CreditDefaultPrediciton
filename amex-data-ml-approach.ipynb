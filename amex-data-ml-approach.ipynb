{
 "cells": [
  {
   "cell_type": "markdown",
   "metadata": {
    "id": "M-nqY3ErA6FX"
   },
   "source": [
    "# Prólego\n",
    "Alejandro Zaccour & Ming Xuan Wu"
   ]
  },
  {
   "cell_type": "code",
   "execution_count": 1,
   "metadata": {
    "execution": {
     "iopub.execute_input": "2022-09-20T07:09:34.334698Z",
     "iopub.status.busy": "2022-09-20T07:09:34.333833Z",
     "iopub.status.idle": "2022-09-20T07:09:40.537301Z",
     "shell.execute_reply": "2022-09-20T07:09:40.53631Z",
     "shell.execute_reply.started": "2022-09-20T07:09:34.334664Z"
    },
    "id": "Uo9iOpnGA-v4"
   },
   "outputs": [],
   "source": [
    "import pandas as pd\n",
    "import numpy as np\n",
    "import gc\n",
    "import matplotlib.pyplot as plt\n",
    "import seaborn as sns\n",
    "import os\n",
    "\n",
    "import sklearn\n",
    "from sklearn import metrics\n",
    "from sklearn.impute import SimpleImputer\n",
    "from sklearn.preprocessing import StandardScaler\n",
    "from sklearn.model_selection import train_test_split\n",
    "from sklearn.metrics import ConfusionMatrixDisplay\n",
    "from sklearn.metrics import confusion_matrix\n",
    "from sklearn.metrics import classification_report,accuracy_score\n",
    "from sklearn.metrics import roc_auc_score\n",
    "from sklearn.metrics import RocCurveDisplay\n",
    "from sklearn.tree import DecisionTreeClassifier\n",
    "from sklearn.linear_model import LogisticRegression\n",
    "from sklearn.datasets import make_multilabel_classification\n",
    "\n",
    "from sklearn.neural_network import MLPClassifier\n",
    "from xgboost import XGBClassifier\n"
   ]
  },
  {
   "cell_type": "markdown",
   "metadata": {
    "id": "E34naMc4BPAx"
   },
   "source": [
    "# Loading the Dataset"
   ]
  },
  {
   "cell_type": "code",
   "execution_count": 2,
   "metadata": {
    "execution": {
     "iopub.execute_input": "2022-09-20T07:09:40.543466Z",
     "iopub.status.busy": "2022-09-20T07:09:40.542238Z",
     "iopub.status.idle": "2022-09-20T07:09:40.549496Z",
     "shell.execute_reply": "2022-09-20T07:09:40.548527Z",
     "shell.execute_reply.started": "2022-09-20T07:09:40.543425Z"
    },
    "id": "2_pmeqX_BULG"
   },
   "outputs": [],
   "source": [
    "number_of_transactions = 2"
   ]
  },
  {
   "cell_type": "code",
   "execution_count": 3,
   "metadata": {
    "execution": {
     "iopub.execute_input": "2022-09-20T07:09:40.552151Z",
     "iopub.status.busy": "2022-09-20T07:09:40.550777Z",
     "iopub.status.idle": "2022-09-20T07:10:13.018897Z",
     "shell.execute_reply": "2022-09-20T07:10:13.01785Z",
     "shell.execute_reply.started": "2022-09-20T07:09:40.552076Z"
    },
    "id": "odp_TJGaBisV"
   },
   "outputs": [],
   "source": [
    "data = pd.read_parquet('train.parquet').groupby('customer_ID').tail(number_of_transactions).set_index('customer_ID', drop=True).sort_index()\n",
    "labels = pd.read_csv('train_labels.csv').set_index('customer_ID', drop=True).sort_index()"
   ]
  },
  {
   "cell_type": "markdown",
   "metadata": {
    "id": "t5hg1e_vBnn4"
   },
   "source": [
    "**Merging the Training data with Labels**"
   ]
  },
  {
   "cell_type": "code",
   "execution_count": 4,
   "metadata": {
    "execution": {
     "iopub.execute_input": "2022-09-20T07:10:13.02103Z",
     "iopub.status.busy": "2022-09-20T07:10:13.020365Z",
     "iopub.status.idle": "2022-09-20T07:10:33.829151Z",
     "shell.execute_reply": "2022-09-20T07:10:33.828086Z",
     "shell.execute_reply.started": "2022-09-20T07:10:13.02099Z"
    },
    "id": "QYEMvCUsBn1b"
   },
   "outputs": [],
   "source": [
    "train_df = pd.merge(data, labels, left_index=True, right_index=True)  "
   ]
  },
  {
   "cell_type": "code",
   "execution_count": 5,
   "metadata": {
    "execution": {
     "iopub.execute_input": "2022-09-20T07:10:33.83134Z",
     "iopub.status.busy": "2022-09-20T07:10:33.830938Z",
     "iopub.status.idle": "2022-09-20T07:10:33.875193Z",
     "shell.execute_reply": "2022-09-20T07:10:33.874205Z",
     "shell.execute_reply.started": "2022-09-20T07:10:33.831298Z"
    }
   },
   "outputs": [
    {
     "data": {
      "text/html": [
       "<div>\n",
       "<style scoped>\n",
       "    .dataframe tbody tr th:only-of-type {\n",
       "        vertical-align: middle;\n",
       "    }\n",
       "\n",
       "    .dataframe tbody tr th {\n",
       "        vertical-align: top;\n",
       "    }\n",
       "\n",
       "    .dataframe thead th {\n",
       "        text-align: right;\n",
       "    }\n",
       "</style>\n",
       "<table border=\"1\" class=\"dataframe\">\n",
       "  <thead>\n",
       "    <tr style=\"text-align: right;\">\n",
       "      <th></th>\n",
       "      <th>S_2</th>\n",
       "      <th>P_2</th>\n",
       "      <th>D_39</th>\n",
       "      <th>B_1</th>\n",
       "      <th>B_2</th>\n",
       "      <th>R_1</th>\n",
       "      <th>S_3</th>\n",
       "      <th>D_41</th>\n",
       "      <th>B_3</th>\n",
       "      <th>D_42</th>\n",
       "      <th>...</th>\n",
       "      <th>D_137</th>\n",
       "      <th>D_138</th>\n",
       "      <th>D_139</th>\n",
       "      <th>D_140</th>\n",
       "      <th>D_141</th>\n",
       "      <th>D_142</th>\n",
       "      <th>D_143</th>\n",
       "      <th>D_144</th>\n",
       "      <th>D_145</th>\n",
       "      <th>target</th>\n",
       "    </tr>\n",
       "    <tr>\n",
       "      <th>customer_ID</th>\n",
       "      <th></th>\n",
       "      <th></th>\n",
       "      <th></th>\n",
       "      <th></th>\n",
       "      <th></th>\n",
       "      <th></th>\n",
       "      <th></th>\n",
       "      <th></th>\n",
       "      <th></th>\n",
       "      <th></th>\n",
       "      <th></th>\n",
       "      <th></th>\n",
       "      <th></th>\n",
       "      <th></th>\n",
       "      <th></th>\n",
       "      <th></th>\n",
       "      <th></th>\n",
       "      <th></th>\n",
       "      <th></th>\n",
       "      <th></th>\n",
       "      <th></th>\n",
       "    </tr>\n",
       "  </thead>\n",
       "  <tbody>\n",
       "    <tr>\n",
       "      <th>0000099d6bd597052cdcda90ffabf56573fe9d7c79be5fbac11a8ed792feb62a</th>\n",
       "      <td>2018-02-21</td>\n",
       "      <td>0.937349</td>\n",
       "      <td>0</td>\n",
       "      <td>0.019837</td>\n",
       "      <td>1.008307</td>\n",
       "      <td>0.000607</td>\n",
       "      <td>0.102985</td>\n",
       "      <td>0.0</td>\n",
       "      <td>0.007454</td>\n",
       "      <td>NaN</td>\n",
       "      <td>...</td>\n",
       "      <td>-1</td>\n",
       "      <td>-1</td>\n",
       "      <td>0</td>\n",
       "      <td>0</td>\n",
       "      <td>0.0</td>\n",
       "      <td>NaN</td>\n",
       "      <td>0</td>\n",
       "      <td>0.006346</td>\n",
       "      <td>0</td>\n",
       "      <td>0</td>\n",
       "    </tr>\n",
       "    <tr>\n",
       "      <th>0000099d6bd597052cdcda90ffabf56573fe9d7c79be5fbac11a8ed792feb62a</th>\n",
       "      <td>2018-03-13</td>\n",
       "      <td>0.934745</td>\n",
       "      <td>0</td>\n",
       "      <td>0.009382</td>\n",
       "      <td>1.007647</td>\n",
       "      <td>0.006104</td>\n",
       "      <td>0.135021</td>\n",
       "      <td>0.0</td>\n",
       "      <td>0.007174</td>\n",
       "      <td>NaN</td>\n",
       "      <td>...</td>\n",
       "      <td>-1</td>\n",
       "      <td>-1</td>\n",
       "      <td>0</td>\n",
       "      <td>0</td>\n",
       "      <td>0.0</td>\n",
       "      <td>NaN</td>\n",
       "      <td>0</td>\n",
       "      <td>0.002970</td>\n",
       "      <td>0</td>\n",
       "      <td>0</td>\n",
       "    </tr>\n",
       "    <tr>\n",
       "      <th>00000fd6641609c6ece5454664794f0340ad84dddce9a267a310b5ae68e9d8e5</th>\n",
       "      <td>2018-02-06</td>\n",
       "      <td>0.878856</td>\n",
       "      <td>18</td>\n",
       "      <td>0.034558</td>\n",
       "      <td>1.005419</td>\n",
       "      <td>0.007248</td>\n",
       "      <td>0.159486</td>\n",
       "      <td>0.0</td>\n",
       "      <td>0.008733</td>\n",
       "      <td>NaN</td>\n",
       "      <td>...</td>\n",
       "      <td>-1</td>\n",
       "      <td>-1</td>\n",
       "      <td>0</td>\n",
       "      <td>0</td>\n",
       "      <td>0.0</td>\n",
       "      <td>NaN</td>\n",
       "      <td>0</td>\n",
       "      <td>0.002528</td>\n",
       "      <td>0</td>\n",
       "      <td>0</td>\n",
       "    </tr>\n",
       "    <tr>\n",
       "      <th>00000fd6641609c6ece5454664794f0340ad84dddce9a267a310b5ae68e9d8e5</th>\n",
       "      <td>2018-03-25</td>\n",
       "      <td>0.880519</td>\n",
       "      <td>6</td>\n",
       "      <td>0.034684</td>\n",
       "      <td>1.004028</td>\n",
       "      <td>0.006911</td>\n",
       "      <td>0.165509</td>\n",
       "      <td>0.0</td>\n",
       "      <td>0.005068</td>\n",
       "      <td>NaN</td>\n",
       "      <td>...</td>\n",
       "      <td>-1</td>\n",
       "      <td>-1</td>\n",
       "      <td>0</td>\n",
       "      <td>0</td>\n",
       "      <td>0.0</td>\n",
       "      <td>NaN</td>\n",
       "      <td>0</td>\n",
       "      <td>0.003169</td>\n",
       "      <td>0</td>\n",
       "      <td>0</td>\n",
       "    </tr>\n",
       "    <tr>\n",
       "      <th>00001b22f846c82c51f6e3958ccd81970162bae8b007e80662ef27519fcc18c1</th>\n",
       "      <td>2018-02-09</td>\n",
       "      <td>0.866342</td>\n",
       "      <td>0</td>\n",
       "      <td>0.008318</td>\n",
       "      <td>0.818953</td>\n",
       "      <td>0.006756</td>\n",
       "      <td>NaN</td>\n",
       "      <td>0.0</td>\n",
       "      <td>0.004373</td>\n",
       "      <td>NaN</td>\n",
       "      <td>...</td>\n",
       "      <td>-1</td>\n",
       "      <td>-1</td>\n",
       "      <td>0</td>\n",
       "      <td>0</td>\n",
       "      <td>0.0</td>\n",
       "      <td>NaN</td>\n",
       "      <td>0</td>\n",
       "      <td>0.007325</td>\n",
       "      <td>0</td>\n",
       "      <td>0</td>\n",
       "    </tr>\n",
       "  </tbody>\n",
       "</table>\n",
       "<p>5 rows × 190 columns</p>\n",
       "</div>"
      ],
      "text/plain": [
       "                                                           S_2       P_2  \\\n",
       "customer_ID                                                                \n",
       "0000099d6bd597052cdcda90ffabf56573fe9d7c79be5fb...  2018-02-21  0.937349   \n",
       "0000099d6bd597052cdcda90ffabf56573fe9d7c79be5fb...  2018-03-13  0.934745   \n",
       "00000fd6641609c6ece5454664794f0340ad84dddce9a26...  2018-02-06  0.878856   \n",
       "00000fd6641609c6ece5454664794f0340ad84dddce9a26...  2018-03-25  0.880519   \n",
       "00001b22f846c82c51f6e3958ccd81970162bae8b007e80...  2018-02-09  0.866342   \n",
       "\n",
       "                                                    D_39       B_1       B_2  \\\n",
       "customer_ID                                                                    \n",
       "0000099d6bd597052cdcda90ffabf56573fe9d7c79be5fb...     0  0.019837  1.008307   \n",
       "0000099d6bd597052cdcda90ffabf56573fe9d7c79be5fb...     0  0.009382  1.007647   \n",
       "00000fd6641609c6ece5454664794f0340ad84dddce9a26...    18  0.034558  1.005419   \n",
       "00000fd6641609c6ece5454664794f0340ad84dddce9a26...     6  0.034684  1.004028   \n",
       "00001b22f846c82c51f6e3958ccd81970162bae8b007e80...     0  0.008318  0.818953   \n",
       "\n",
       "                                                         R_1       S_3  D_41  \\\n",
       "customer_ID                                                                    \n",
       "0000099d6bd597052cdcda90ffabf56573fe9d7c79be5fb...  0.000607  0.102985   0.0   \n",
       "0000099d6bd597052cdcda90ffabf56573fe9d7c79be5fb...  0.006104  0.135021   0.0   \n",
       "00000fd6641609c6ece5454664794f0340ad84dddce9a26...  0.007248  0.159486   0.0   \n",
       "00000fd6641609c6ece5454664794f0340ad84dddce9a26...  0.006911  0.165509   0.0   \n",
       "00001b22f846c82c51f6e3958ccd81970162bae8b007e80...  0.006756       NaN   0.0   \n",
       "\n",
       "                                                         B_3  D_42  ...  \\\n",
       "customer_ID                                                         ...   \n",
       "0000099d6bd597052cdcda90ffabf56573fe9d7c79be5fb...  0.007454   NaN  ...   \n",
       "0000099d6bd597052cdcda90ffabf56573fe9d7c79be5fb...  0.007174   NaN  ...   \n",
       "00000fd6641609c6ece5454664794f0340ad84dddce9a26...  0.008733   NaN  ...   \n",
       "00000fd6641609c6ece5454664794f0340ad84dddce9a26...  0.005068   NaN  ...   \n",
       "00001b22f846c82c51f6e3958ccd81970162bae8b007e80...  0.004373   NaN  ...   \n",
       "\n",
       "                                                    D_137  D_138  D_139  \\\n",
       "customer_ID                                                               \n",
       "0000099d6bd597052cdcda90ffabf56573fe9d7c79be5fb...     -1     -1      0   \n",
       "0000099d6bd597052cdcda90ffabf56573fe9d7c79be5fb...     -1     -1      0   \n",
       "00000fd6641609c6ece5454664794f0340ad84dddce9a26...     -1     -1      0   \n",
       "00000fd6641609c6ece5454664794f0340ad84dddce9a26...     -1     -1      0   \n",
       "00001b22f846c82c51f6e3958ccd81970162bae8b007e80...     -1     -1      0   \n",
       "\n",
       "                                                    D_140  D_141  D_142  \\\n",
       "customer_ID                                                               \n",
       "0000099d6bd597052cdcda90ffabf56573fe9d7c79be5fb...      0    0.0    NaN   \n",
       "0000099d6bd597052cdcda90ffabf56573fe9d7c79be5fb...      0    0.0    NaN   \n",
       "00000fd6641609c6ece5454664794f0340ad84dddce9a26...      0    0.0    NaN   \n",
       "00000fd6641609c6ece5454664794f0340ad84dddce9a26...      0    0.0    NaN   \n",
       "00001b22f846c82c51f6e3958ccd81970162bae8b007e80...      0    0.0    NaN   \n",
       "\n",
       "                                                    D_143     D_144  D_145  \\\n",
       "customer_ID                                                                  \n",
       "0000099d6bd597052cdcda90ffabf56573fe9d7c79be5fb...      0  0.006346      0   \n",
       "0000099d6bd597052cdcda90ffabf56573fe9d7c79be5fb...      0  0.002970      0   \n",
       "00000fd6641609c6ece5454664794f0340ad84dddce9a26...      0  0.002528      0   \n",
       "00000fd6641609c6ece5454664794f0340ad84dddce9a26...      0  0.003169      0   \n",
       "00001b22f846c82c51f6e3958ccd81970162bae8b007e80...      0  0.007325      0   \n",
       "\n",
       "                                                    target  \n",
       "customer_ID                                                 \n",
       "0000099d6bd597052cdcda90ffabf56573fe9d7c79be5fb...       0  \n",
       "0000099d6bd597052cdcda90ffabf56573fe9d7c79be5fb...       0  \n",
       "00000fd6641609c6ece5454664794f0340ad84dddce9a26...       0  \n",
       "00000fd6641609c6ece5454664794f0340ad84dddce9a26...       0  \n",
       "00001b22f846c82c51f6e3958ccd81970162bae8b007e80...       0  \n",
       "\n",
       "[5 rows x 190 columns]"
      ]
     },
     "execution_count": 5,
     "metadata": {},
     "output_type": "execute_result"
    }
   ],
   "source": [
    "train_df.head()"
   ]
  },
  {
   "cell_type": "code",
   "execution_count": 6,
   "metadata": {
    "execution": {
     "iopub.execute_input": "2022-09-20T07:10:33.877364Z",
     "iopub.status.busy": "2022-09-20T07:10:33.876928Z",
     "iopub.status.idle": "2022-09-20T07:10:33.8835Z",
     "shell.execute_reply": "2022-09-20T07:10:33.881911Z",
     "shell.execute_reply.started": "2022-09-20T07:10:33.877326Z"
    },
    "id": "w5DTZ9UGEVhR",
    "outputId": "72e5b210-631e-4e36-b849-065fc74db396"
   },
   "outputs": [
    {
     "name": "stdout",
     "output_type": "stream",
     "text": [
      "The number of observations in Training Dataset is : 912706\n"
     ]
    }
   ],
   "source": [
    "print(\"The number of observations in Training Dataset is :\",len(train_df))"
   ]
  },
  {
   "cell_type": "code",
   "execution_count": 7,
   "metadata": {
    "execution": {
     "iopub.execute_input": "2022-09-20T07:10:33.885859Z",
     "iopub.status.busy": "2022-09-20T07:10:33.88541Z",
     "iopub.status.idle": "2022-09-20T07:10:33.915036Z",
     "shell.execute_reply": "2022-09-20T07:10:33.91388Z",
     "shell.execute_reply.started": "2022-09-20T07:10:33.885825Z"
    },
    "id": "pBGzATy0EZFC",
    "outputId": "1ab18502-14cf-439a-e8cc-95302f8d7dd6"
   },
   "outputs": [
    {
     "data": {
      "text/html": [
       "<div>\n",
       "<style scoped>\n",
       "    .dataframe tbody tr th:only-of-type {\n",
       "        vertical-align: middle;\n",
       "    }\n",
       "\n",
       "    .dataframe tbody tr th {\n",
       "        vertical-align: top;\n",
       "    }\n",
       "\n",
       "    .dataframe thead th {\n",
       "        text-align: right;\n",
       "    }\n",
       "</style>\n",
       "<table border=\"1\" class=\"dataframe\">\n",
       "  <thead>\n",
       "    <tr style=\"text-align: right;\">\n",
       "      <th></th>\n",
       "      <th>S_2</th>\n",
       "      <th>P_2</th>\n",
       "      <th>D_39</th>\n",
       "      <th>B_1</th>\n",
       "      <th>B_2</th>\n",
       "      <th>R_1</th>\n",
       "      <th>S_3</th>\n",
       "      <th>D_41</th>\n",
       "      <th>B_3</th>\n",
       "      <th>D_42</th>\n",
       "      <th>...</th>\n",
       "      <th>D_137</th>\n",
       "      <th>D_138</th>\n",
       "      <th>D_139</th>\n",
       "      <th>D_140</th>\n",
       "      <th>D_141</th>\n",
       "      <th>D_142</th>\n",
       "      <th>D_143</th>\n",
       "      <th>D_144</th>\n",
       "      <th>D_145</th>\n",
       "      <th>target</th>\n",
       "    </tr>\n",
       "    <tr>\n",
       "      <th>customer_ID</th>\n",
       "      <th></th>\n",
       "      <th></th>\n",
       "      <th></th>\n",
       "      <th></th>\n",
       "      <th></th>\n",
       "      <th></th>\n",
       "      <th></th>\n",
       "      <th></th>\n",
       "      <th></th>\n",
       "      <th></th>\n",
       "      <th></th>\n",
       "      <th></th>\n",
       "      <th></th>\n",
       "      <th></th>\n",
       "      <th></th>\n",
       "      <th></th>\n",
       "      <th></th>\n",
       "      <th></th>\n",
       "      <th></th>\n",
       "      <th></th>\n",
       "      <th></th>\n",
       "    </tr>\n",
       "  </thead>\n",
       "  <tbody>\n",
       "    <tr>\n",
       "      <th>0000099d6bd597052cdcda90ffabf56573fe9d7c79be5fbac11a8ed792feb62a</th>\n",
       "      <td>2018-02-21</td>\n",
       "      <td>0.937349</td>\n",
       "      <td>0</td>\n",
       "      <td>0.019837</td>\n",
       "      <td>1.008307</td>\n",
       "      <td>0.000607</td>\n",
       "      <td>0.102985</td>\n",
       "      <td>0.0</td>\n",
       "      <td>0.007454</td>\n",
       "      <td>NaN</td>\n",
       "      <td>...</td>\n",
       "      <td>-1</td>\n",
       "      <td>-1</td>\n",
       "      <td>0</td>\n",
       "      <td>0</td>\n",
       "      <td>0.0</td>\n",
       "      <td>NaN</td>\n",
       "      <td>0</td>\n",
       "      <td>0.006346</td>\n",
       "      <td>0</td>\n",
       "      <td>0</td>\n",
       "    </tr>\n",
       "    <tr>\n",
       "      <th>0000099d6bd597052cdcda90ffabf56573fe9d7c79be5fbac11a8ed792feb62a</th>\n",
       "      <td>2018-03-13</td>\n",
       "      <td>0.934745</td>\n",
       "      <td>0</td>\n",
       "      <td>0.009382</td>\n",
       "      <td>1.007647</td>\n",
       "      <td>0.006104</td>\n",
       "      <td>0.135021</td>\n",
       "      <td>0.0</td>\n",
       "      <td>0.007174</td>\n",
       "      <td>NaN</td>\n",
       "      <td>...</td>\n",
       "      <td>-1</td>\n",
       "      <td>-1</td>\n",
       "      <td>0</td>\n",
       "      <td>0</td>\n",
       "      <td>0.0</td>\n",
       "      <td>NaN</td>\n",
       "      <td>0</td>\n",
       "      <td>0.002970</td>\n",
       "      <td>0</td>\n",
       "      <td>0</td>\n",
       "    </tr>\n",
       "    <tr>\n",
       "      <th>00000fd6641609c6ece5454664794f0340ad84dddce9a267a310b5ae68e9d8e5</th>\n",
       "      <td>2018-02-06</td>\n",
       "      <td>0.878856</td>\n",
       "      <td>18</td>\n",
       "      <td>0.034558</td>\n",
       "      <td>1.005419</td>\n",
       "      <td>0.007248</td>\n",
       "      <td>0.159486</td>\n",
       "      <td>0.0</td>\n",
       "      <td>0.008733</td>\n",
       "      <td>NaN</td>\n",
       "      <td>...</td>\n",
       "      <td>-1</td>\n",
       "      <td>-1</td>\n",
       "      <td>0</td>\n",
       "      <td>0</td>\n",
       "      <td>0.0</td>\n",
       "      <td>NaN</td>\n",
       "      <td>0</td>\n",
       "      <td>0.002528</td>\n",
       "      <td>0</td>\n",
       "      <td>0</td>\n",
       "    </tr>\n",
       "    <tr>\n",
       "      <th>00000fd6641609c6ece5454664794f0340ad84dddce9a267a310b5ae68e9d8e5</th>\n",
       "      <td>2018-03-25</td>\n",
       "      <td>0.880519</td>\n",
       "      <td>6</td>\n",
       "      <td>0.034684</td>\n",
       "      <td>1.004028</td>\n",
       "      <td>0.006911</td>\n",
       "      <td>0.165509</td>\n",
       "      <td>0.0</td>\n",
       "      <td>0.005068</td>\n",
       "      <td>NaN</td>\n",
       "      <td>...</td>\n",
       "      <td>-1</td>\n",
       "      <td>-1</td>\n",
       "      <td>0</td>\n",
       "      <td>0</td>\n",
       "      <td>0.0</td>\n",
       "      <td>NaN</td>\n",
       "      <td>0</td>\n",
       "      <td>0.003169</td>\n",
       "      <td>0</td>\n",
       "      <td>0</td>\n",
       "    </tr>\n",
       "    <tr>\n",
       "      <th>00001b22f846c82c51f6e3958ccd81970162bae8b007e80662ef27519fcc18c1</th>\n",
       "      <td>2018-02-09</td>\n",
       "      <td>0.866342</td>\n",
       "      <td>0</td>\n",
       "      <td>0.008318</td>\n",
       "      <td>0.818953</td>\n",
       "      <td>0.006756</td>\n",
       "      <td>NaN</td>\n",
       "      <td>0.0</td>\n",
       "      <td>0.004373</td>\n",
       "      <td>NaN</td>\n",
       "      <td>...</td>\n",
       "      <td>-1</td>\n",
       "      <td>-1</td>\n",
       "      <td>0</td>\n",
       "      <td>0</td>\n",
       "      <td>0.0</td>\n",
       "      <td>NaN</td>\n",
       "      <td>0</td>\n",
       "      <td>0.007325</td>\n",
       "      <td>0</td>\n",
       "      <td>0</td>\n",
       "    </tr>\n",
       "  </tbody>\n",
       "</table>\n",
       "<p>5 rows × 190 columns</p>\n",
       "</div>"
      ],
      "text/plain": [
       "                                                           S_2       P_2  \\\n",
       "customer_ID                                                                \n",
       "0000099d6bd597052cdcda90ffabf56573fe9d7c79be5fb...  2018-02-21  0.937349   \n",
       "0000099d6bd597052cdcda90ffabf56573fe9d7c79be5fb...  2018-03-13  0.934745   \n",
       "00000fd6641609c6ece5454664794f0340ad84dddce9a26...  2018-02-06  0.878856   \n",
       "00000fd6641609c6ece5454664794f0340ad84dddce9a26...  2018-03-25  0.880519   \n",
       "00001b22f846c82c51f6e3958ccd81970162bae8b007e80...  2018-02-09  0.866342   \n",
       "\n",
       "                                                    D_39       B_1       B_2  \\\n",
       "customer_ID                                                                    \n",
       "0000099d6bd597052cdcda90ffabf56573fe9d7c79be5fb...     0  0.019837  1.008307   \n",
       "0000099d6bd597052cdcda90ffabf56573fe9d7c79be5fb...     0  0.009382  1.007647   \n",
       "00000fd6641609c6ece5454664794f0340ad84dddce9a26...    18  0.034558  1.005419   \n",
       "00000fd6641609c6ece5454664794f0340ad84dddce9a26...     6  0.034684  1.004028   \n",
       "00001b22f846c82c51f6e3958ccd81970162bae8b007e80...     0  0.008318  0.818953   \n",
       "\n",
       "                                                         R_1       S_3  D_41  \\\n",
       "customer_ID                                                                    \n",
       "0000099d6bd597052cdcda90ffabf56573fe9d7c79be5fb...  0.000607  0.102985   0.0   \n",
       "0000099d6bd597052cdcda90ffabf56573fe9d7c79be5fb...  0.006104  0.135021   0.0   \n",
       "00000fd6641609c6ece5454664794f0340ad84dddce9a26...  0.007248  0.159486   0.0   \n",
       "00000fd6641609c6ece5454664794f0340ad84dddce9a26...  0.006911  0.165509   0.0   \n",
       "00001b22f846c82c51f6e3958ccd81970162bae8b007e80...  0.006756       NaN   0.0   \n",
       "\n",
       "                                                         B_3  D_42  ...  \\\n",
       "customer_ID                                                         ...   \n",
       "0000099d6bd597052cdcda90ffabf56573fe9d7c79be5fb...  0.007454   NaN  ...   \n",
       "0000099d6bd597052cdcda90ffabf56573fe9d7c79be5fb...  0.007174   NaN  ...   \n",
       "00000fd6641609c6ece5454664794f0340ad84dddce9a26...  0.008733   NaN  ...   \n",
       "00000fd6641609c6ece5454664794f0340ad84dddce9a26...  0.005068   NaN  ...   \n",
       "00001b22f846c82c51f6e3958ccd81970162bae8b007e80...  0.004373   NaN  ...   \n",
       "\n",
       "                                                    D_137  D_138  D_139  \\\n",
       "customer_ID                                                               \n",
       "0000099d6bd597052cdcda90ffabf56573fe9d7c79be5fb...     -1     -1      0   \n",
       "0000099d6bd597052cdcda90ffabf56573fe9d7c79be5fb...     -1     -1      0   \n",
       "00000fd6641609c6ece5454664794f0340ad84dddce9a26...     -1     -1      0   \n",
       "00000fd6641609c6ece5454664794f0340ad84dddce9a26...     -1     -1      0   \n",
       "00001b22f846c82c51f6e3958ccd81970162bae8b007e80...     -1     -1      0   \n",
       "\n",
       "                                                    D_140  D_141  D_142  \\\n",
       "customer_ID                                                               \n",
       "0000099d6bd597052cdcda90ffabf56573fe9d7c79be5fb...      0    0.0    NaN   \n",
       "0000099d6bd597052cdcda90ffabf56573fe9d7c79be5fb...      0    0.0    NaN   \n",
       "00000fd6641609c6ece5454664794f0340ad84dddce9a26...      0    0.0    NaN   \n",
       "00000fd6641609c6ece5454664794f0340ad84dddce9a26...      0    0.0    NaN   \n",
       "00001b22f846c82c51f6e3958ccd81970162bae8b007e80...      0    0.0    NaN   \n",
       "\n",
       "                                                    D_143     D_144  D_145  \\\n",
       "customer_ID                                                                  \n",
       "0000099d6bd597052cdcda90ffabf56573fe9d7c79be5fb...      0  0.006346      0   \n",
       "0000099d6bd597052cdcda90ffabf56573fe9d7c79be5fb...      0  0.002970      0   \n",
       "00000fd6641609c6ece5454664794f0340ad84dddce9a26...      0  0.002528      0   \n",
       "00000fd6641609c6ece5454664794f0340ad84dddce9a26...      0  0.003169      0   \n",
       "00001b22f846c82c51f6e3958ccd81970162bae8b007e80...      0  0.007325      0   \n",
       "\n",
       "                                                    target  \n",
       "customer_ID                                                 \n",
       "0000099d6bd597052cdcda90ffabf56573fe9d7c79be5fb...       0  \n",
       "0000099d6bd597052cdcda90ffabf56573fe9d7c79be5fb...       0  \n",
       "00000fd6641609c6ece5454664794f0340ad84dddce9a26...       0  \n",
       "00000fd6641609c6ece5454664794f0340ad84dddce9a26...       0  \n",
       "00001b22f846c82c51f6e3958ccd81970162bae8b007e80...       0  \n",
       "\n",
       "[5 rows x 190 columns]"
      ]
     },
     "execution_count": 7,
     "metadata": {},
     "output_type": "execute_result"
    }
   ],
   "source": [
    "train_df.head()"
   ]
  },
  {
   "cell_type": "markdown",
   "metadata": {
    "id": "nRGCF2bEE3JY"
   },
   "source": [
    "**Descriptive Statistics**"
   ]
  },
  {
   "cell_type": "code",
   "execution_count": 8,
   "metadata": {
    "execution": {
     "iopub.execute_input": "2022-09-20T07:10:33.917118Z",
     "iopub.status.busy": "2022-09-20T07:10:33.916737Z",
     "iopub.status.idle": "2022-09-20T07:10:38.319523Z",
     "shell.execute_reply": "2022-09-20T07:10:38.318459Z",
     "shell.execute_reply.started": "2022-09-20T07:10:33.917081Z"
    },
    "id": "2QWKLIPoE2bG",
    "outputId": "12d71c26-78bb-49f1-c54b-270b0a376d87"
   },
   "outputs": [
    {
     "data": {
      "text/html": [
       "<div>\n",
       "<style scoped>\n",
       "    .dataframe tbody tr th:only-of-type {\n",
       "        vertical-align: middle;\n",
       "    }\n",
       "\n",
       "    .dataframe tbody tr th {\n",
       "        vertical-align: top;\n",
       "    }\n",
       "\n",
       "    .dataframe thead th {\n",
       "        text-align: right;\n",
       "    }\n",
       "</style>\n",
       "<table border=\"1\" class=\"dataframe\">\n",
       "  <thead>\n",
       "    <tr style=\"text-align: right;\">\n",
       "      <th></th>\n",
       "      <th>P_2</th>\n",
       "      <th>D_39</th>\n",
       "      <th>B_1</th>\n",
       "      <th>B_2</th>\n",
       "      <th>R_1</th>\n",
       "      <th>S_3</th>\n",
       "      <th>D_41</th>\n",
       "      <th>B_3</th>\n",
       "      <th>D_42</th>\n",
       "      <th>D_43</th>\n",
       "      <th>...</th>\n",
       "      <th>D_137</th>\n",
       "      <th>D_138</th>\n",
       "      <th>D_139</th>\n",
       "      <th>D_140</th>\n",
       "      <th>D_141</th>\n",
       "      <th>D_142</th>\n",
       "      <th>D_143</th>\n",
       "      <th>D_144</th>\n",
       "      <th>D_145</th>\n",
       "      <th>target</th>\n",
       "    </tr>\n",
       "  </thead>\n",
       "  <tbody>\n",
       "    <tr>\n",
       "      <th>count</th>\n",
       "      <td>906552.000000</td>\n",
       "      <td>912706.000000</td>\n",
       "      <td>912706.000000</td>\n",
       "      <td>9.125830e+05</td>\n",
       "      <td>9.127060e+05</td>\n",
       "      <td>745687.000000</td>\n",
       "      <td>912583.000000</td>\n",
       "      <td>9.125830e+05</td>\n",
       "      <td>120435.000000</td>\n",
       "      <td>6.449100e+05</td>\n",
       "      <td>...</td>\n",
       "      <td>912706.000000</td>\n",
       "      <td>912706.000000</td>\n",
       "      <td>912706.000000</td>\n",
       "      <td>912706.000000</td>\n",
       "      <td>905398.000000</td>\n",
       "      <td>159262.000000</td>\n",
       "      <td>912706.000000</td>\n",
       "      <td>9.126170e+05</td>\n",
       "      <td>912706.000000</td>\n",
       "      <td>912706.000000</td>\n",
       "    </tr>\n",
       "    <tr>\n",
       "      <th>mean</th>\n",
       "      <td>0.636799</td>\n",
       "      <td>6.456304</td>\n",
       "      <td>0.138035</td>\n",
       "      <td>5.923208e-01</td>\n",
       "      <td>1.029318e-01</td>\n",
       "      <td>0.229894</td>\n",
       "      <td>0.085989</td>\n",
       "      <td>1.538056e-01</td>\n",
       "      <td>0.179276</td>\n",
       "      <td>1.627040e-01</td>\n",
       "      <td>...</td>\n",
       "      <td>-0.962624</td>\n",
       "      <td>-0.951849</td>\n",
       "      <td>0.166488</td>\n",
       "      <td>0.023874</td>\n",
       "      <td>0.162263</td>\n",
       "      <td>0.394201</td>\n",
       "      <td>0.166391</td>\n",
       "      <td>5.204723e-02</td>\n",
       "      <td>0.633433</td>\n",
       "      <td>0.258503</td>\n",
       "    </tr>\n",
       "    <tr>\n",
       "      <th>std</th>\n",
       "      <td>0.264099</td>\n",
       "      <td>12.375271</td>\n",
       "      <td>0.229371</td>\n",
       "      <td>4.116640e-01</td>\n",
       "      <td>2.688321e-01</td>\n",
       "      <td>0.199344</td>\n",
       "      <td>0.280976</td>\n",
       "      <td>2.545957e-01</td>\n",
       "      <td>0.252493</td>\n",
       "      <td>2.262265e-01</td>\n",
       "      <td>...</td>\n",
       "      <td>0.191303</td>\n",
       "      <td>0.265015</td>\n",
       "      <td>0.393426</td>\n",
       "      <td>0.153294</td>\n",
       "      <td>0.350627</td>\n",
       "      <td>0.241014</td>\n",
       "      <td>0.393343</td>\n",
       "      <td>1.815970e-01</td>\n",
       "      <td>2.163156</td>\n",
       "      <td>0.437812</td>\n",
       "    </tr>\n",
       "    <tr>\n",
       "      <th>min</th>\n",
       "      <td>-0.458955</td>\n",
       "      <td>0.000000</td>\n",
       "      <td>-3.571172</td>\n",
       "      <td>2.024839e-07</td>\n",
       "      <td>5.646122e-08</td>\n",
       "      <td>-0.508883</td>\n",
       "      <td>0.000000</td>\n",
       "      <td>1.028956e-08</td>\n",
       "      <td>-0.000327</td>\n",
       "      <td>5.429255e-07</td>\n",
       "      <td>...</td>\n",
       "      <td>-1.000000</td>\n",
       "      <td>-1.000000</td>\n",
       "      <td>-1.000000</td>\n",
       "      <td>-1.000000</td>\n",
       "      <td>0.000000</td>\n",
       "      <td>-0.014539</td>\n",
       "      <td>-1.000000</td>\n",
       "      <td>1.995319e-08</td>\n",
       "      <td>-1.000000</td>\n",
       "      <td>0.000000</td>\n",
       "    </tr>\n",
       "    <tr>\n",
       "      <th>25%</th>\n",
       "      <td>0.451598</td>\n",
       "      <td>0.000000</td>\n",
       "      <td>0.009005</td>\n",
       "      <td>7.178548e-02</td>\n",
       "      <td>2.946978e-03</td>\n",
       "      <td>0.127834</td>\n",
       "      <td>0.000000</td>\n",
       "      <td>5.450183e-03</td>\n",
       "      <td>0.032310</td>\n",
       "      <td>4.321236e-02</td>\n",
       "      <td>...</td>\n",
       "      <td>-1.000000</td>\n",
       "      <td>-1.000000</td>\n",
       "      <td>0.000000</td>\n",
       "      <td>0.000000</td>\n",
       "      <td>0.000000</td>\n",
       "      <td>0.199730</td>\n",
       "      <td>0.000000</td>\n",
       "      <td>2.751625e-03</td>\n",
       "      <td>0.000000</td>\n",
       "      <td>0.000000</td>\n",
       "    </tr>\n",
       "    <tr>\n",
       "      <th>50%</th>\n",
       "      <td>0.682277</td>\n",
       "      <td>0.000000</td>\n",
       "      <td>0.033369</td>\n",
       "      <td>8.134166e-01</td>\n",
       "      <td>5.900606e-03</td>\n",
       "      <td>0.165132</td>\n",
       "      <td>0.000000</td>\n",
       "      <td>1.065207e-02</td>\n",
       "      <td>0.110210</td>\n",
       "      <td>9.189411e-02</td>\n",
       "      <td>...</td>\n",
       "      <td>-1.000000</td>\n",
       "      <td>-1.000000</td>\n",
       "      <td>0.000000</td>\n",
       "      <td>0.000000</td>\n",
       "      <td>0.000000</td>\n",
       "      <td>0.386400</td>\n",
       "      <td>0.000000</td>\n",
       "      <td>5.502113e-03</td>\n",
       "      <td>0.000000</td>\n",
       "      <td>0.000000</td>\n",
       "    </tr>\n",
       "    <tr>\n",
       "      <th>75%</th>\n",
       "      <td>0.861331</td>\n",
       "      <td>9.000000</td>\n",
       "      <td>0.152085</td>\n",
       "      <td>1.001992e+00</td>\n",
       "      <td>8.853793e-03</td>\n",
       "      <td>0.266043</td>\n",
       "      <td>0.000000</td>\n",
       "      <td>2.076588e-01</td>\n",
       "      <td>0.233323</td>\n",
       "      <td>1.935486e-01</td>\n",
       "      <td>...</td>\n",
       "      <td>-1.000000</td>\n",
       "      <td>-1.000000</td>\n",
       "      <td>0.000000</td>\n",
       "      <td>0.000000</td>\n",
       "      <td>0.000000</td>\n",
       "      <td>0.573420</td>\n",
       "      <td>0.000000</td>\n",
       "      <td>8.251858e-03</td>\n",
       "      <td>0.000000</td>\n",
       "      <td>1.000000</td>\n",
       "    </tr>\n",
       "    <tr>\n",
       "      <th>max</th>\n",
       "      <td>1.010000</td>\n",
       "      <td>178.000000</td>\n",
       "      <td>1.324059</td>\n",
       "      <td>1.010000e+00</td>\n",
       "      <td>2.759738e+00</td>\n",
       "      <td>4.437958</td>\n",
       "      <td>8.988807</td>\n",
       "      <td>1.625262e+00</td>\n",
       "      <td>4.191119</td>\n",
       "      <td>1.011162e+01</td>\n",
       "      <td>...</td>\n",
       "      <td>1.000000</td>\n",
       "      <td>5.000000</td>\n",
       "      <td>1.000000</td>\n",
       "      <td>1.000000</td>\n",
       "      <td>1.339910</td>\n",
       "      <td>2.229368</td>\n",
       "      <td>1.000000</td>\n",
       "      <td>1.343326e+00</td>\n",
       "      <td>53.000000</td>\n",
       "      <td>1.000000</td>\n",
       "    </tr>\n",
       "  </tbody>\n",
       "</table>\n",
       "<p>8 rows × 189 columns</p>\n",
       "</div>"
      ],
      "text/plain": [
       "                 P_2           D_39            B_1           B_2  \\\n",
       "count  906552.000000  912706.000000  912706.000000  9.125830e+05   \n",
       "mean        0.636799       6.456304       0.138035  5.923208e-01   \n",
       "std         0.264099      12.375271       0.229371  4.116640e-01   \n",
       "min        -0.458955       0.000000      -3.571172  2.024839e-07   \n",
       "25%         0.451598       0.000000       0.009005  7.178548e-02   \n",
       "50%         0.682277       0.000000       0.033369  8.134166e-01   \n",
       "75%         0.861331       9.000000       0.152085  1.001992e+00   \n",
       "max         1.010000     178.000000       1.324059  1.010000e+00   \n",
       "\n",
       "                R_1            S_3           D_41           B_3  \\\n",
       "count  9.127060e+05  745687.000000  912583.000000  9.125830e+05   \n",
       "mean   1.029318e-01       0.229894       0.085989  1.538056e-01   \n",
       "std    2.688321e-01       0.199344       0.280976  2.545957e-01   \n",
       "min    5.646122e-08      -0.508883       0.000000  1.028956e-08   \n",
       "25%    2.946978e-03       0.127834       0.000000  5.450183e-03   \n",
       "50%    5.900606e-03       0.165132       0.000000  1.065207e-02   \n",
       "75%    8.853793e-03       0.266043       0.000000  2.076588e-01   \n",
       "max    2.759738e+00       4.437958       8.988807  1.625262e+00   \n",
       "\n",
       "                D_42          D_43  ...          D_137          D_138  \\\n",
       "count  120435.000000  6.449100e+05  ...  912706.000000  912706.000000   \n",
       "mean        0.179276  1.627040e-01  ...      -0.962624      -0.951849   \n",
       "std         0.252493  2.262265e-01  ...       0.191303       0.265015   \n",
       "min        -0.000327  5.429255e-07  ...      -1.000000      -1.000000   \n",
       "25%         0.032310  4.321236e-02  ...      -1.000000      -1.000000   \n",
       "50%         0.110210  9.189411e-02  ...      -1.000000      -1.000000   \n",
       "75%         0.233323  1.935486e-01  ...      -1.000000      -1.000000   \n",
       "max         4.191119  1.011162e+01  ...       1.000000       5.000000   \n",
       "\n",
       "               D_139          D_140          D_141          D_142  \\\n",
       "count  912706.000000  912706.000000  905398.000000  159262.000000   \n",
       "mean        0.166488       0.023874       0.162263       0.394201   \n",
       "std         0.393426       0.153294       0.350627       0.241014   \n",
       "min        -1.000000      -1.000000       0.000000      -0.014539   \n",
       "25%         0.000000       0.000000       0.000000       0.199730   \n",
       "50%         0.000000       0.000000       0.000000       0.386400   \n",
       "75%         0.000000       0.000000       0.000000       0.573420   \n",
       "max         1.000000       1.000000       1.339910       2.229368   \n",
       "\n",
       "               D_143         D_144          D_145         target  \n",
       "count  912706.000000  9.126170e+05  912706.000000  912706.000000  \n",
       "mean        0.166391  5.204723e-02       0.633433       0.258503  \n",
       "std         0.393343  1.815970e-01       2.163156       0.437812  \n",
       "min        -1.000000  1.995319e-08      -1.000000       0.000000  \n",
       "25%         0.000000  2.751625e-03       0.000000       0.000000  \n",
       "50%         0.000000  5.502113e-03       0.000000       0.000000  \n",
       "75%         0.000000  8.251858e-03       0.000000       1.000000  \n",
       "max         1.000000  1.343326e+00      53.000000       1.000000  \n",
       "\n",
       "[8 rows x 189 columns]"
      ]
     },
     "execution_count": 8,
     "metadata": {},
     "output_type": "execute_result"
    }
   ],
   "source": [
    "train_df.describe()"
   ]
  },
  {
   "cell_type": "markdown",
   "metadata": {
    "id": "hxwLA4XdBu13"
   },
   "source": [
    "**Visualisation**\n",
    "\n",
    "Count Plot of the Target Variable"
   ]
  },
  {
   "cell_type": "code",
   "execution_count": 9,
   "metadata": {
    "execution": {
     "iopub.execute_input": "2022-09-20T07:10:38.321838Z",
     "iopub.status.busy": "2022-09-20T07:10:38.321159Z",
     "iopub.status.idle": "2022-09-20T07:10:38.794482Z",
     "shell.execute_reply": "2022-09-20T07:10:38.793482Z",
     "shell.execute_reply.started": "2022-09-20T07:10:38.32178Z"
    },
    "id": "0rL_r7pUEhwB",
    "outputId": "b921b346-7d0c-4a00-9a54-d250c00c029b"
   },
   "outputs": [
    {
     "data": {
      "text/plain": [
       "<AxesSubplot:xlabel='target', ylabel='count'>"
      ]
     },
     "execution_count": 9,
     "metadata": {},
     "output_type": "execute_result"
    },
    {
     "data": {
      "image/png": "[encoded data removed]",
      "text/plain": [
       "<Figure size 432x288 with 1 Axes>"
      ]
     },
     "metadata": {
      "needs_background": "light"
     },
     "output_type": "display_data"
    }
   ],
   "source": [
    "sns.set_palette(palette='Purples', n_colors=2, desat=1)\n",
    "\n",
    "sns.countplot(x = 'target',data = train_df  )"
   ]
  },
  {
   "cell_type": "markdown",
   "metadata": {
    "id": "JUU83Qu4wE12"
   },
   "source": [
    "# Pre-Processing"
   ]
  },
  {
   "cell_type": "markdown",
   "metadata": {
    "id": "SRyHBP2RBwez"
   },
   "source": [
    "**Dropping the Transaction Dates**"
   ]
  },
  {
   "cell_type": "code",
   "execution_count": 10,
   "metadata": {
    "execution": {
     "iopub.execute_input": "2022-09-20T07:10:38.796547Z",
     "iopub.status.busy": "2022-09-20T07:10:38.796123Z",
     "iopub.status.idle": "2022-09-20T07:10:38.977981Z",
     "shell.execute_reply": "2022-09-20T07:10:38.97699Z",
     "shell.execute_reply.started": "2022-09-20T07:10:38.796491Z"
    },
    "id": "klVfB1i1BxCg"
   },
   "outputs": [],
   "source": [
    "drop_cols = ['S_2'] \n",
    "train_df.drop(drop_cols, inplace=True, axis=1)"
   ]
  },
  {
   "cell_type": "code",
   "execution_count": 11,
   "metadata": {},
   "outputs": [],
   "source": [
    "nums=[col for col in train_df if col != 'target']"
   ]
  },
  {
   "cell_type": "code",
   "execution_count": 12,
   "metadata": {},
   "outputs": [],
   "source": [
    "target = labels\n"
   ]
  },
  {
   "cell_type": "code",
   "execution_count": 13,
   "metadata": {
    "scrolled": false
   },
   "outputs": [
    {
     "data": {
      "text/html": [
       "<div>\n",
       "<style scoped>\n",
       "    .dataframe tbody tr th:only-of-type {\n",
       "        vertical-align: middle;\n",
       "    }\n",
       "\n",
       "    .dataframe tbody tr th {\n",
       "        vertical-align: top;\n",
       "    }\n",
       "\n",
       "    .dataframe thead th {\n",
       "        text-align: right;\n",
       "    }\n",
       "</style>\n",
       "<table border=\"1\" class=\"dataframe\">\n",
       "  <thead>\n",
       "    <tr style=\"text-align: right;\">\n",
       "      <th></th>\n",
       "      <th>P_2_mean</th>\n",
       "      <th>P_2_std</th>\n",
       "      <th>P_2_min</th>\n",
       "      <th>P_2_max</th>\n",
       "      <th>P_2_last</th>\n",
       "      <th>D_39_mean</th>\n",
       "      <th>D_39_std</th>\n",
       "      <th>D_39_min</th>\n",
       "      <th>D_39_max</th>\n",
       "      <th>D_39_last</th>\n",
       "      <th>...</th>\n",
       "      <th>D_144_mean</th>\n",
       "      <th>D_144_std</th>\n",
       "      <th>D_144_min</th>\n",
       "      <th>D_144_max</th>\n",
       "      <th>D_144_last</th>\n",
       "      <th>D_145_mean</th>\n",
       "      <th>D_145_std</th>\n",
       "      <th>D_145_min</th>\n",
       "      <th>D_145_max</th>\n",
       "      <th>D_145_last</th>\n",
       "    </tr>\n",
       "    <tr>\n",
       "      <th>customer_ID</th>\n",
       "      <th></th>\n",
       "      <th></th>\n",
       "      <th></th>\n",
       "      <th></th>\n",
       "      <th></th>\n",
       "      <th></th>\n",
       "      <th></th>\n",
       "      <th></th>\n",
       "      <th></th>\n",
       "      <th></th>\n",
       "      <th></th>\n",
       "      <th></th>\n",
       "      <th></th>\n",
       "      <th></th>\n",
       "      <th></th>\n",
       "      <th></th>\n",
       "      <th></th>\n",
       "      <th></th>\n",
       "      <th></th>\n",
       "      <th></th>\n",
       "      <th></th>\n",
       "    </tr>\n",
       "  </thead>\n",
       "  <tbody>\n",
       "    <tr>\n",
       "      <th>0000099d6bd597052cdcda90ffabf56573fe9d7c79be5fbac11a8ed792feb62a</th>\n",
       "      <td>0.936047</td>\n",
       "      <td>0.001841</td>\n",
       "      <td>0.934745</td>\n",
       "      <td>0.937349</td>\n",
       "      <td>0.934745</td>\n",
       "      <td>0.0</td>\n",
       "      <td>0.000000</td>\n",
       "      <td>0</td>\n",
       "      <td>0</td>\n",
       "      <td>0</td>\n",
       "      <td>...</td>\n",
       "      <td>0.004658</td>\n",
       "      <td>0.002387</td>\n",
       "      <td>0.002970</td>\n",
       "      <td>0.006346</td>\n",
       "      <td>0.002970</td>\n",
       "      <td>0.0</td>\n",
       "      <td>0.0</td>\n",
       "      <td>0</td>\n",
       "      <td>0</td>\n",
       "      <td>0</td>\n",
       "    </tr>\n",
       "    <tr>\n",
       "      <th>00000fd6641609c6ece5454664794f0340ad84dddce9a267a310b5ae68e9d8e5</th>\n",
       "      <td>0.879688</td>\n",
       "      <td>0.001176</td>\n",
       "      <td>0.878856</td>\n",
       "      <td>0.880519</td>\n",
       "      <td>0.880519</td>\n",
       "      <td>12.0</td>\n",
       "      <td>8.485281</td>\n",
       "      <td>6</td>\n",
       "      <td>18</td>\n",
       "      <td>6</td>\n",
       "      <td>...</td>\n",
       "      <td>0.002849</td>\n",
       "      <td>0.000453</td>\n",
       "      <td>0.002528</td>\n",
       "      <td>0.003169</td>\n",
       "      <td>0.003169</td>\n",
       "      <td>0.0</td>\n",
       "      <td>0.0</td>\n",
       "      <td>0</td>\n",
       "      <td>0</td>\n",
       "      <td>0</td>\n",
       "    </tr>\n",
       "    <tr>\n",
       "      <th>00001b22f846c82c51f6e3958ccd81970162bae8b007e80662ef27519fcc18c1</th>\n",
       "      <td>0.873608</td>\n",
       "      <td>0.010276</td>\n",
       "      <td>0.866342</td>\n",
       "      <td>0.880875</td>\n",
       "      <td>0.880875</td>\n",
       "      <td>0.0</td>\n",
       "      <td>0.000000</td>\n",
       "      <td>0</td>\n",
       "      <td>0</td>\n",
       "      <td>0</td>\n",
       "      <td>...</td>\n",
       "      <td>0.004079</td>\n",
       "      <td>0.004590</td>\n",
       "      <td>0.000834</td>\n",
       "      <td>0.007325</td>\n",
       "      <td>0.000834</td>\n",
       "      <td>0.0</td>\n",
       "      <td>0.0</td>\n",
       "      <td>0</td>\n",
       "      <td>0</td>\n",
       "      <td>0</td>\n",
       "    </tr>\n",
       "    <tr>\n",
       "      <th>000041bdba6ecadd89a52d11886e8eaaec9325906c9723355abb5ca523658edc</th>\n",
       "      <td>0.622584</td>\n",
       "      <td>0.001142</td>\n",
       "      <td>0.621776</td>\n",
       "      <td>0.623392</td>\n",
       "      <td>0.621776</td>\n",
       "      <td>0.0</td>\n",
       "      <td>0.000000</td>\n",
       "      <td>0</td>\n",
       "      <td>0</td>\n",
       "      <td>0</td>\n",
       "      <td>...</td>\n",
       "      <td>0.005189</td>\n",
       "      <td>0.000524</td>\n",
       "      <td>0.004819</td>\n",
       "      <td>0.005560</td>\n",
       "      <td>0.005560</td>\n",
       "      <td>0.0</td>\n",
       "      <td>0.0</td>\n",
       "      <td>0</td>\n",
       "      <td>0</td>\n",
       "      <td>0</td>\n",
       "    </tr>\n",
       "    <tr>\n",
       "      <th>00007889e4fcd2614b6cbe7f8f3d2e5c728eca32d9eb8ad51ca8b8c4a24cefed</th>\n",
       "      <td>0.875569</td>\n",
       "      <td>0.005189</td>\n",
       "      <td>0.871900</td>\n",
       "      <td>0.879238</td>\n",
       "      <td>0.871900</td>\n",
       "      <td>0.0</td>\n",
       "      <td>0.000000</td>\n",
       "      <td>0</td>\n",
       "      <td>0</td>\n",
       "      <td>0</td>\n",
       "      <td>...</td>\n",
       "      <td>0.006634</td>\n",
       "      <td>0.000437</td>\n",
       "      <td>0.006325</td>\n",
       "      <td>0.006944</td>\n",
       "      <td>0.006944</td>\n",
       "      <td>0.0</td>\n",
       "      <td>0.0</td>\n",
       "      <td>0</td>\n",
       "      <td>0</td>\n",
       "      <td>0</td>\n",
       "    </tr>\n",
       "    <tr>\n",
       "      <th>...</th>\n",
       "      <td>...</td>\n",
       "      <td>...</td>\n",
       "      <td>...</td>\n",
       "      <td>...</td>\n",
       "      <td>...</td>\n",
       "      <td>...</td>\n",
       "      <td>...</td>\n",
       "      <td>...</td>\n",
       "      <td>...</td>\n",
       "      <td>...</td>\n",
       "      <td>...</td>\n",
       "      <td>...</td>\n",
       "      <td>...</td>\n",
       "      <td>...</td>\n",
       "      <td>...</td>\n",
       "      <td>...</td>\n",
       "      <td>...</td>\n",
       "      <td>...</td>\n",
       "      <td>...</td>\n",
       "      <td>...</td>\n",
       "      <td>...</td>\n",
       "    </tr>\n",
       "    <tr>\n",
       "      <th>ffff41c8a52833b56430603969b9ca48d208e7c192c6a4081a6acc28cf4f8af7</th>\n",
       "      <td>0.828347</td>\n",
       "      <td>0.022461</td>\n",
       "      <td>0.812465</td>\n",
       "      <td>0.844229</td>\n",
       "      <td>0.844229</td>\n",
       "      <td>7.5</td>\n",
       "      <td>10.606602</td>\n",
       "      <td>0</td>\n",
       "      <td>15</td>\n",
       "      <td>15</td>\n",
       "      <td>...</td>\n",
       "      <td>0.004015</td>\n",
       "      <td>0.001422</td>\n",
       "      <td>0.003009</td>\n",
       "      <td>0.005021</td>\n",
       "      <td>0.003009</td>\n",
       "      <td>0.0</td>\n",
       "      <td>0.0</td>\n",
       "      <td>0</td>\n",
       "      <td>0</td>\n",
       "      <td>0</td>\n",
       "    </tr>\n",
       "    <tr>\n",
       "      <th>ffff518bb2075e4816ee3fe9f3b152c57fc0e6f01bf7fdd3e5b57cfcbee30286</th>\n",
       "      <td>0.835069</td>\n",
       "      <td>0.005360</td>\n",
       "      <td>0.831279</td>\n",
       "      <td>0.838860</td>\n",
       "      <td>0.831279</td>\n",
       "      <td>1.0</td>\n",
       "      <td>0.000000</td>\n",
       "      <td>1</td>\n",
       "      <td>1</td>\n",
       "      <td>1</td>\n",
       "      <td>...</td>\n",
       "      <td>0.009598</td>\n",
       "      <td>0.000521</td>\n",
       "      <td>0.009230</td>\n",
       "      <td>0.009966</td>\n",
       "      <td>0.009230</td>\n",
       "      <td>0.0</td>\n",
       "      <td>0.0</td>\n",
       "      <td>0</td>\n",
       "      <td>0</td>\n",
       "      <td>0</td>\n",
       "    </tr>\n",
       "    <tr>\n",
       "      <th>ffff9984b999fccb2b6127635ed0736dda94e544e67e026eee4d20f680639ff6</th>\n",
       "      <td>0.793664</td>\n",
       "      <td>0.009699</td>\n",
       "      <td>0.786806</td>\n",
       "      <td>0.800522</td>\n",
       "      <td>0.800522</td>\n",
       "      <td>8.5</td>\n",
       "      <td>0.707107</td>\n",
       "      <td>8</td>\n",
       "      <td>9</td>\n",
       "      <td>9</td>\n",
       "      <td>...</td>\n",
       "      <td>0.004067</td>\n",
       "      <td>0.005271</td>\n",
       "      <td>0.000340</td>\n",
       "      <td>0.007795</td>\n",
       "      <td>0.000340</td>\n",
       "      <td>0.0</td>\n",
       "      <td>0.0</td>\n",
       "      <td>0</td>\n",
       "      <td>0</td>\n",
       "      <td>0</td>\n",
       "    </tr>\n",
       "    <tr>\n",
       "      <th>ffffa5c46bc8de74f5a4554e74e239c8dee6b9baf388145b2c3d01967fcce461</th>\n",
       "      <td>0.754291</td>\n",
       "      <td>0.000229</td>\n",
       "      <td>0.754129</td>\n",
       "      <td>0.754452</td>\n",
       "      <td>0.754129</td>\n",
       "      <td>0.0</td>\n",
       "      <td>0.000000</td>\n",
       "      <td>0</td>\n",
       "      <td>0</td>\n",
       "      <td>0</td>\n",
       "      <td>...</td>\n",
       "      <td>0.003414</td>\n",
       "      <td>0.001289</td>\n",
       "      <td>0.002502</td>\n",
       "      <td>0.004325</td>\n",
       "      <td>0.002502</td>\n",
       "      <td>2.0</td>\n",
       "      <td>0.0</td>\n",
       "      <td>2</td>\n",
       "      <td>2</td>\n",
       "      <td>2</td>\n",
       "    </tr>\n",
       "    <tr>\n",
       "      <th>fffff1d38b785cef84adeace64f8f83db3a0c31e8d92eaba8b115f71cab04681</th>\n",
       "      <td>0.976018</td>\n",
       "      <td>0.008707</td>\n",
       "      <td>0.969861</td>\n",
       "      <td>0.982175</td>\n",
       "      <td>0.982175</td>\n",
       "      <td>7.5</td>\n",
       "      <td>10.606602</td>\n",
       "      <td>0</td>\n",
       "      <td>15</td>\n",
       "      <td>0</td>\n",
       "      <td>...</td>\n",
       "      <td>0.002176</td>\n",
       "      <td>0.001425</td>\n",
       "      <td>0.001168</td>\n",
       "      <td>0.003184</td>\n",
       "      <td>0.003184</td>\n",
       "      <td>0.0</td>\n",
       "      <td>0.0</td>\n",
       "      <td>0</td>\n",
       "      <td>0</td>\n",
       "      <td>0</td>\n",
       "    </tr>\n",
       "  </tbody>\n",
       "</table>\n",
       "<p>458913 rows × 940 columns</p>\n",
       "</div>"
      ],
      "text/plain": [
       "                                                    P_2_mean   P_2_std  \\\n",
       "customer_ID                                                              \n",
       "0000099d6bd597052cdcda90ffabf56573fe9d7c79be5fb...  0.936047  0.001841   \n",
       "00000fd6641609c6ece5454664794f0340ad84dddce9a26...  0.879688  0.001176   \n",
       "00001b22f846c82c51f6e3958ccd81970162bae8b007e80...  0.873608  0.010276   \n",
       "000041bdba6ecadd89a52d11886e8eaaec9325906c97233...  0.622584  0.001142   \n",
       "00007889e4fcd2614b6cbe7f8f3d2e5c728eca32d9eb8ad...  0.875569  0.005189   \n",
       "...                                                      ...       ...   \n",
       "ffff41c8a52833b56430603969b9ca48d208e7c192c6a40...  0.828347  0.022461   \n",
       "ffff518bb2075e4816ee3fe9f3b152c57fc0e6f01bf7fdd...  0.835069  0.005360   \n",
       "ffff9984b999fccb2b6127635ed0736dda94e544e67e026...  0.793664  0.009699   \n",
       "ffffa5c46bc8de74f5a4554e74e239c8dee6b9baf388145...  0.754291  0.000229   \n",
       "fffff1d38b785cef84adeace64f8f83db3a0c31e8d92eab...  0.976018  0.008707   \n",
       "\n",
       "                                                     P_2_min   P_2_max  \\\n",
       "customer_ID                                                              \n",
       "0000099d6bd597052cdcda90ffabf56573fe9d7c79be5fb...  0.934745  0.937349   \n",
       "00000fd6641609c6ece5454664794f0340ad84dddce9a26...  0.878856  0.880519   \n",
       "00001b22f846c82c51f6e3958ccd81970162bae8b007e80...  0.866342  0.880875   \n",
       "000041bdba6ecadd89a52d11886e8eaaec9325906c97233...  0.621776  0.623392   \n",
       "00007889e4fcd2614b6cbe7f8f3d2e5c728eca32d9eb8ad...  0.871900  0.879238   \n",
       "...                                                      ...       ...   \n",
       "ffff41c8a52833b56430603969b9ca48d208e7c192c6a40...  0.812465  0.844229   \n",
       "ffff518bb2075e4816ee3fe9f3b152c57fc0e6f01bf7fdd...  0.831279  0.838860   \n",
       "ffff9984b999fccb2b6127635ed0736dda94e544e67e026...  0.786806  0.800522   \n",
       "ffffa5c46bc8de74f5a4554e74e239c8dee6b9baf388145...  0.754129  0.754452   \n",
       "fffff1d38b785cef84adeace64f8f83db3a0c31e8d92eab...  0.969861  0.982175   \n",
       "\n",
       "                                                    P_2_last  D_39_mean  \\\n",
       "customer_ID                                                               \n",
       "0000099d6bd597052cdcda90ffabf56573fe9d7c79be5fb...  0.934745        0.0   \n",
       "00000fd6641609c6ece5454664794f0340ad84dddce9a26...  0.880519       12.0   \n",
       "00001b22f846c82c51f6e3958ccd81970162bae8b007e80...  0.880875        0.0   \n",
       "000041bdba6ecadd89a52d11886e8eaaec9325906c97233...  0.621776        0.0   \n",
       "00007889e4fcd2614b6cbe7f8f3d2e5c728eca32d9eb8ad...  0.871900        0.0   \n",
       "...                                                      ...        ...   \n",
       "ffff41c8a52833b56430603969b9ca48d208e7c192c6a40...  0.844229        7.5   \n",
       "ffff518bb2075e4816ee3fe9f3b152c57fc0e6f01bf7fdd...  0.831279        1.0   \n",
       "ffff9984b999fccb2b6127635ed0736dda94e544e67e026...  0.800522        8.5   \n",
       "ffffa5c46bc8de74f5a4554e74e239c8dee6b9baf388145...  0.754129        0.0   \n",
       "fffff1d38b785cef84adeace64f8f83db3a0c31e8d92eab...  0.982175        7.5   \n",
       "\n",
       "                                                     D_39_std  D_39_min  \\\n",
       "customer_ID                                                               \n",
       "0000099d6bd597052cdcda90ffabf56573fe9d7c79be5fb...   0.000000         0   \n",
       "00000fd6641609c6ece5454664794f0340ad84dddce9a26...   8.485281         6   \n",
       "00001b22f846c82c51f6e3958ccd81970162bae8b007e80...   0.000000         0   \n",
       "000041bdba6ecadd89a52d11886e8eaaec9325906c97233...   0.000000         0   \n",
       "00007889e4fcd2614b6cbe7f8f3d2e5c728eca32d9eb8ad...   0.000000         0   \n",
       "...                                                       ...       ...   \n",
       "ffff41c8a52833b56430603969b9ca48d208e7c192c6a40...  10.606602         0   \n",
       "ffff518bb2075e4816ee3fe9f3b152c57fc0e6f01bf7fdd...   0.000000         1   \n",
       "ffff9984b999fccb2b6127635ed0736dda94e544e67e026...   0.707107         8   \n",
       "ffffa5c46bc8de74f5a4554e74e239c8dee6b9baf388145...   0.000000         0   \n",
       "fffff1d38b785cef84adeace64f8f83db3a0c31e8d92eab...  10.606602         0   \n",
       "\n",
       "                                                    D_39_max  D_39_last  ...  \\\n",
       "customer_ID                                                              ...   \n",
       "0000099d6bd597052cdcda90ffabf56573fe9d7c79be5fb...         0          0  ...   \n",
       "00000fd6641609c6ece5454664794f0340ad84dddce9a26...        18          6  ...   \n",
       "00001b22f846c82c51f6e3958ccd81970162bae8b007e80...         0          0  ...   \n",
       "000041bdba6ecadd89a52d11886e8eaaec9325906c97233...         0          0  ...   \n",
       "00007889e4fcd2614b6cbe7f8f3d2e5c728eca32d9eb8ad...         0          0  ...   \n",
       "...                                                      ...        ...  ...   \n",
       "ffff41c8a52833b56430603969b9ca48d208e7c192c6a40...        15         15  ...   \n",
       "ffff518bb2075e4816ee3fe9f3b152c57fc0e6f01bf7fdd...         1          1  ...   \n",
       "ffff9984b999fccb2b6127635ed0736dda94e544e67e026...         9          9  ...   \n",
       "ffffa5c46bc8de74f5a4554e74e239c8dee6b9baf388145...         0          0  ...   \n",
       "fffff1d38b785cef84adeace64f8f83db3a0c31e8d92eab...        15          0  ...   \n",
       "\n",
       "                                                    D_144_mean  D_144_std  \\\n",
       "customer_ID                                                                 \n",
       "0000099d6bd597052cdcda90ffabf56573fe9d7c79be5fb...    0.004658   0.002387   \n",
       "00000fd6641609c6ece5454664794f0340ad84dddce9a26...    0.002849   0.000453   \n",
       "00001b22f846c82c51f6e3958ccd81970162bae8b007e80...    0.004079   0.004590   \n",
       "000041bdba6ecadd89a52d11886e8eaaec9325906c97233...    0.005189   0.000524   \n",
       "00007889e4fcd2614b6cbe7f8f3d2e5c728eca32d9eb8ad...    0.006634   0.000437   \n",
       "...                                                        ...        ...   \n",
       "ffff41c8a52833b56430603969b9ca48d208e7c192c6a40...    0.004015   0.001422   \n",
       "ffff518bb2075e4816ee3fe9f3b152c57fc0e6f01bf7fdd...    0.009598   0.000521   \n",
       "ffff9984b999fccb2b6127635ed0736dda94e544e67e026...    0.004067   0.005271   \n",
       "ffffa5c46bc8de74f5a4554e74e239c8dee6b9baf388145...    0.003414   0.001289   \n",
       "fffff1d38b785cef84adeace64f8f83db3a0c31e8d92eab...    0.002176   0.001425   \n",
       "\n",
       "                                                    D_144_min  D_144_max  \\\n",
       "customer_ID                                                                \n",
       "0000099d6bd597052cdcda90ffabf56573fe9d7c79be5fb...   0.002970   0.006346   \n",
       "00000fd6641609c6ece5454664794f0340ad84dddce9a26...   0.002528   0.003169   \n",
       "00001b22f846c82c51f6e3958ccd81970162bae8b007e80...   0.000834   0.007325   \n",
       "000041bdba6ecadd89a52d11886e8eaaec9325906c97233...   0.004819   0.005560   \n",
       "00007889e4fcd2614b6cbe7f8f3d2e5c728eca32d9eb8ad...   0.006325   0.006944   \n",
       "...                                                       ...        ...   \n",
       "ffff41c8a52833b56430603969b9ca48d208e7c192c6a40...   0.003009   0.005021   \n",
       "ffff518bb2075e4816ee3fe9f3b152c57fc0e6f01bf7fdd...   0.009230   0.009966   \n",
       "ffff9984b999fccb2b6127635ed0736dda94e544e67e026...   0.000340   0.007795   \n",
       "ffffa5c46bc8de74f5a4554e74e239c8dee6b9baf388145...   0.002502   0.004325   \n",
       "fffff1d38b785cef84adeace64f8f83db3a0c31e8d92eab...   0.001168   0.003184   \n",
       "\n",
       "                                                    D_144_last  D_145_mean  \\\n",
       "customer_ID                                                                  \n",
       "0000099d6bd597052cdcda90ffabf56573fe9d7c79be5fb...    0.002970         0.0   \n",
       "00000fd6641609c6ece5454664794f0340ad84dddce9a26...    0.003169         0.0   \n",
       "00001b22f846c82c51f6e3958ccd81970162bae8b007e80...    0.000834         0.0   \n",
       "000041bdba6ecadd89a52d11886e8eaaec9325906c97233...    0.005560         0.0   \n",
       "00007889e4fcd2614b6cbe7f8f3d2e5c728eca32d9eb8ad...    0.006944         0.0   \n",
       "...                                                        ...         ...   \n",
       "ffff41c8a52833b56430603969b9ca48d208e7c192c6a40...    0.003009         0.0   \n",
       "ffff518bb2075e4816ee3fe9f3b152c57fc0e6f01bf7fdd...    0.009230         0.0   \n",
       "ffff9984b999fccb2b6127635ed0736dda94e544e67e026...    0.000340         0.0   \n",
       "ffffa5c46bc8de74f5a4554e74e239c8dee6b9baf388145...    0.002502         2.0   \n",
       "fffff1d38b785cef84adeace64f8f83db3a0c31e8d92eab...    0.003184         0.0   \n",
       "\n",
       "                                                    D_145_std  D_145_min  \\\n",
       "customer_ID                                                                \n",
       "0000099d6bd597052cdcda90ffabf56573fe9d7c79be5fb...        0.0          0   \n",
       "00000fd6641609c6ece5454664794f0340ad84dddce9a26...        0.0          0   \n",
       "00001b22f846c82c51f6e3958ccd81970162bae8b007e80...        0.0          0   \n",
       "000041bdba6ecadd89a52d11886e8eaaec9325906c97233...        0.0          0   \n",
       "00007889e4fcd2614b6cbe7f8f3d2e5c728eca32d9eb8ad...        0.0          0   \n",
       "...                                                       ...        ...   \n",
       "ffff41c8a52833b56430603969b9ca48d208e7c192c6a40...        0.0          0   \n",
       "ffff518bb2075e4816ee3fe9f3b152c57fc0e6f01bf7fdd...        0.0          0   \n",
       "ffff9984b999fccb2b6127635ed0736dda94e544e67e026...        0.0          0   \n",
       "ffffa5c46bc8de74f5a4554e74e239c8dee6b9baf388145...        0.0          2   \n",
       "fffff1d38b785cef84adeace64f8f83db3a0c31e8d92eab...        0.0          0   \n",
       "\n",
       "                                                    D_145_max  D_145_last  \n",
       "customer_ID                                                                \n",
       "0000099d6bd597052cdcda90ffabf56573fe9d7c79be5fb...          0           0  \n",
       "00000fd6641609c6ece5454664794f0340ad84dddce9a26...          0           0  \n",
       "00001b22f846c82c51f6e3958ccd81970162bae8b007e80...          0           0  \n",
       "000041bdba6ecadd89a52d11886e8eaaec9325906c97233...          0           0  \n",
       "00007889e4fcd2614b6cbe7f8f3d2e5c728eca32d9eb8ad...          0           0  \n",
       "...                                                       ...         ...  \n",
       "ffff41c8a52833b56430603969b9ca48d208e7c192c6a40...          0           0  \n",
       "ffff518bb2075e4816ee3fe9f3b152c57fc0e6f01bf7fdd...          0           0  \n",
       "ffff9984b999fccb2b6127635ed0736dda94e544e67e026...          0           0  \n",
       "ffffa5c46bc8de74f5a4554e74e239c8dee6b9baf388145...          2           2  \n",
       "fffff1d38b785cef84adeace64f8f83db3a0c31e8d92eab...          0           0  \n",
       "\n",
       "[458913 rows x 940 columns]"
      ]
     },
     "execution_count": 13,
     "metadata": {},
     "output_type": "execute_result"
    }
   ],
   "source": [
    "#agregado de los clientes (con mean, max, ...)\n",
    "train_nums=train_df.groupby('customer_ID')[nums].agg(['mean','std','min','max','last'])\n",
    "train_nums.columns=['_'.join(i) for i in train_nums.columns]\n",
    "train_nums"
   ]
  },
  {
   "cell_type": "code",
   "execution_count": 14,
   "metadata": {},
   "outputs": [],
   "source": [
    "train_df = train_nums.join(target)"
   ]
  },
  {
   "cell_type": "code",
   "execution_count": 15,
   "metadata": {},
   "outputs": [
    {
     "data": {
      "text/html": [
       "<div>\n",
       "<style scoped>\n",
       "    .dataframe tbody tr th:only-of-type {\n",
       "        vertical-align: middle;\n",
       "    }\n",
       "\n",
       "    .dataframe tbody tr th {\n",
       "        vertical-align: top;\n",
       "    }\n",
       "\n",
       "    .dataframe thead th {\n",
       "        text-align: right;\n",
       "    }\n",
       "</style>\n",
       "<table border=\"1\" class=\"dataframe\">\n",
       "  <thead>\n",
       "    <tr style=\"text-align: right;\">\n",
       "      <th></th>\n",
       "      <th>P_2_mean</th>\n",
       "      <th>P_2_std</th>\n",
       "      <th>P_2_min</th>\n",
       "      <th>P_2_max</th>\n",
       "      <th>P_2_last</th>\n",
       "      <th>D_39_mean</th>\n",
       "      <th>D_39_std</th>\n",
       "      <th>D_39_min</th>\n",
       "      <th>D_39_max</th>\n",
       "      <th>D_39_last</th>\n",
       "      <th>...</th>\n",
       "      <th>D_144_std</th>\n",
       "      <th>D_144_min</th>\n",
       "      <th>D_144_max</th>\n",
       "      <th>D_144_last</th>\n",
       "      <th>D_145_mean</th>\n",
       "      <th>D_145_std</th>\n",
       "      <th>D_145_min</th>\n",
       "      <th>D_145_max</th>\n",
       "      <th>D_145_last</th>\n",
       "      <th>target</th>\n",
       "    </tr>\n",
       "    <tr>\n",
       "      <th>customer_ID</th>\n",
       "      <th></th>\n",
       "      <th></th>\n",
       "      <th></th>\n",
       "      <th></th>\n",
       "      <th></th>\n",
       "      <th></th>\n",
       "      <th></th>\n",
       "      <th></th>\n",
       "      <th></th>\n",
       "      <th></th>\n",
       "      <th></th>\n",
       "      <th></th>\n",
       "      <th></th>\n",
       "      <th></th>\n",
       "      <th></th>\n",
       "      <th></th>\n",
       "      <th></th>\n",
       "      <th></th>\n",
       "      <th></th>\n",
       "      <th></th>\n",
       "      <th></th>\n",
       "    </tr>\n",
       "  </thead>\n",
       "  <tbody>\n",
       "    <tr>\n",
       "      <th>0000099d6bd597052cdcda90ffabf56573fe9d7c79be5fbac11a8ed792feb62a</th>\n",
       "      <td>0.936047</td>\n",
       "      <td>0.001841</td>\n",
       "      <td>0.934745</td>\n",
       "      <td>0.937349</td>\n",
       "      <td>0.934745</td>\n",
       "      <td>0.0</td>\n",
       "      <td>0.000000</td>\n",
       "      <td>0</td>\n",
       "      <td>0</td>\n",
       "      <td>0</td>\n",
       "      <td>...</td>\n",
       "      <td>0.002387</td>\n",
       "      <td>0.002970</td>\n",
       "      <td>0.006346</td>\n",
       "      <td>0.002970</td>\n",
       "      <td>0.0</td>\n",
       "      <td>0.0</td>\n",
       "      <td>0</td>\n",
       "      <td>0</td>\n",
       "      <td>0</td>\n",
       "      <td>0</td>\n",
       "    </tr>\n",
       "    <tr>\n",
       "      <th>00000fd6641609c6ece5454664794f0340ad84dddce9a267a310b5ae68e9d8e5</th>\n",
       "      <td>0.879688</td>\n",
       "      <td>0.001176</td>\n",
       "      <td>0.878856</td>\n",
       "      <td>0.880519</td>\n",
       "      <td>0.880519</td>\n",
       "      <td>12.0</td>\n",
       "      <td>8.485281</td>\n",
       "      <td>6</td>\n",
       "      <td>18</td>\n",
       "      <td>6</td>\n",
       "      <td>...</td>\n",
       "      <td>0.000453</td>\n",
       "      <td>0.002528</td>\n",
       "      <td>0.003169</td>\n",
       "      <td>0.003169</td>\n",
       "      <td>0.0</td>\n",
       "      <td>0.0</td>\n",
       "      <td>0</td>\n",
       "      <td>0</td>\n",
       "      <td>0</td>\n",
       "      <td>0</td>\n",
       "    </tr>\n",
       "    <tr>\n",
       "      <th>00001b22f846c82c51f6e3958ccd81970162bae8b007e80662ef27519fcc18c1</th>\n",
       "      <td>0.873608</td>\n",
       "      <td>0.010276</td>\n",
       "      <td>0.866342</td>\n",
       "      <td>0.880875</td>\n",
       "      <td>0.880875</td>\n",
       "      <td>0.0</td>\n",
       "      <td>0.000000</td>\n",
       "      <td>0</td>\n",
       "      <td>0</td>\n",
       "      <td>0</td>\n",
       "      <td>...</td>\n",
       "      <td>0.004590</td>\n",
       "      <td>0.000834</td>\n",
       "      <td>0.007325</td>\n",
       "      <td>0.000834</td>\n",
       "      <td>0.0</td>\n",
       "      <td>0.0</td>\n",
       "      <td>0</td>\n",
       "      <td>0</td>\n",
       "      <td>0</td>\n",
       "      <td>0</td>\n",
       "    </tr>\n",
       "    <tr>\n",
       "      <th>000041bdba6ecadd89a52d11886e8eaaec9325906c9723355abb5ca523658edc</th>\n",
       "      <td>0.622584</td>\n",
       "      <td>0.001142</td>\n",
       "      <td>0.621776</td>\n",
       "      <td>0.623392</td>\n",
       "      <td>0.621776</td>\n",
       "      <td>0.0</td>\n",
       "      <td>0.000000</td>\n",
       "      <td>0</td>\n",
       "      <td>0</td>\n",
       "      <td>0</td>\n",
       "      <td>...</td>\n",
       "      <td>0.000524</td>\n",
       "      <td>0.004819</td>\n",
       "      <td>0.005560</td>\n",
       "      <td>0.005560</td>\n",
       "      <td>0.0</td>\n",
       "      <td>0.0</td>\n",
       "      <td>0</td>\n",
       "      <td>0</td>\n",
       "      <td>0</td>\n",
       "      <td>0</td>\n",
       "    </tr>\n",
       "    <tr>\n",
       "      <th>00007889e4fcd2614b6cbe7f8f3d2e5c728eca32d9eb8ad51ca8b8c4a24cefed</th>\n",
       "      <td>0.875569</td>\n",
       "      <td>0.005189</td>\n",
       "      <td>0.871900</td>\n",
       "      <td>0.879238</td>\n",
       "      <td>0.871900</td>\n",
       "      <td>0.0</td>\n",
       "      <td>0.000000</td>\n",
       "      <td>0</td>\n",
       "      <td>0</td>\n",
       "      <td>0</td>\n",
       "      <td>...</td>\n",
       "      <td>0.000437</td>\n",
       "      <td>0.006325</td>\n",
       "      <td>0.006944</td>\n",
       "      <td>0.006944</td>\n",
       "      <td>0.0</td>\n",
       "      <td>0.0</td>\n",
       "      <td>0</td>\n",
       "      <td>0</td>\n",
       "      <td>0</td>\n",
       "      <td>0</td>\n",
       "    </tr>\n",
       "    <tr>\n",
       "      <th>...</th>\n",
       "      <td>...</td>\n",
       "      <td>...</td>\n",
       "      <td>...</td>\n",
       "      <td>...</td>\n",
       "      <td>...</td>\n",
       "      <td>...</td>\n",
       "      <td>...</td>\n",
       "      <td>...</td>\n",
       "      <td>...</td>\n",
       "      <td>...</td>\n",
       "      <td>...</td>\n",
       "      <td>...</td>\n",
       "      <td>...</td>\n",
       "      <td>...</td>\n",
       "      <td>...</td>\n",
       "      <td>...</td>\n",
       "      <td>...</td>\n",
       "      <td>...</td>\n",
       "      <td>...</td>\n",
       "      <td>...</td>\n",
       "      <td>...</td>\n",
       "    </tr>\n",
       "    <tr>\n",
       "      <th>ffff41c8a52833b56430603969b9ca48d208e7c192c6a4081a6acc28cf4f8af7</th>\n",
       "      <td>0.828347</td>\n",
       "      <td>0.022461</td>\n",
       "      <td>0.812465</td>\n",
       "      <td>0.844229</td>\n",
       "      <td>0.844229</td>\n",
       "      <td>7.5</td>\n",
       "      <td>10.606602</td>\n",
       "      <td>0</td>\n",
       "      <td>15</td>\n",
       "      <td>15</td>\n",
       "      <td>...</td>\n",
       "      <td>0.001422</td>\n",
       "      <td>0.003009</td>\n",
       "      <td>0.005021</td>\n",
       "      <td>0.003009</td>\n",
       "      <td>0.0</td>\n",
       "      <td>0.0</td>\n",
       "      <td>0</td>\n",
       "      <td>0</td>\n",
       "      <td>0</td>\n",
       "      <td>0</td>\n",
       "    </tr>\n",
       "    <tr>\n",
       "      <th>ffff518bb2075e4816ee3fe9f3b152c57fc0e6f01bf7fdd3e5b57cfcbee30286</th>\n",
       "      <td>0.835069</td>\n",
       "      <td>0.005360</td>\n",
       "      <td>0.831279</td>\n",
       "      <td>0.838860</td>\n",
       "      <td>0.831279</td>\n",
       "      <td>1.0</td>\n",
       "      <td>0.000000</td>\n",
       "      <td>1</td>\n",
       "      <td>1</td>\n",
       "      <td>1</td>\n",
       "      <td>...</td>\n",
       "      <td>0.000521</td>\n",
       "      <td>0.009230</td>\n",
       "      <td>0.009966</td>\n",
       "      <td>0.009230</td>\n",
       "      <td>0.0</td>\n",
       "      <td>0.0</td>\n",
       "      <td>0</td>\n",
       "      <td>0</td>\n",
       "      <td>0</td>\n",
       "      <td>0</td>\n",
       "    </tr>\n",
       "    <tr>\n",
       "      <th>ffff9984b999fccb2b6127635ed0736dda94e544e67e026eee4d20f680639ff6</th>\n",
       "      <td>0.793664</td>\n",
       "      <td>0.009699</td>\n",
       "      <td>0.786806</td>\n",
       "      <td>0.800522</td>\n",
       "      <td>0.800522</td>\n",
       "      <td>8.5</td>\n",
       "      <td>0.707107</td>\n",
       "      <td>8</td>\n",
       "      <td>9</td>\n",
       "      <td>9</td>\n",
       "      <td>...</td>\n",
       "      <td>0.005271</td>\n",
       "      <td>0.000340</td>\n",
       "      <td>0.007795</td>\n",
       "      <td>0.000340</td>\n",
       "      <td>0.0</td>\n",
       "      <td>0.0</td>\n",
       "      <td>0</td>\n",
       "      <td>0</td>\n",
       "      <td>0</td>\n",
       "      <td>0</td>\n",
       "    </tr>\n",
       "    <tr>\n",
       "      <th>ffffa5c46bc8de74f5a4554e74e239c8dee6b9baf388145b2c3d01967fcce461</th>\n",
       "      <td>0.754291</td>\n",
       "      <td>0.000229</td>\n",
       "      <td>0.754129</td>\n",
       "      <td>0.754452</td>\n",
       "      <td>0.754129</td>\n",
       "      <td>0.0</td>\n",
       "      <td>0.000000</td>\n",
       "      <td>0</td>\n",
       "      <td>0</td>\n",
       "      <td>0</td>\n",
       "      <td>...</td>\n",
       "      <td>0.001289</td>\n",
       "      <td>0.002502</td>\n",
       "      <td>0.004325</td>\n",
       "      <td>0.002502</td>\n",
       "      <td>2.0</td>\n",
       "      <td>0.0</td>\n",
       "      <td>2</td>\n",
       "      <td>2</td>\n",
       "      <td>2</td>\n",
       "      <td>1</td>\n",
       "    </tr>\n",
       "    <tr>\n",
       "      <th>fffff1d38b785cef84adeace64f8f83db3a0c31e8d92eaba8b115f71cab04681</th>\n",
       "      <td>0.976018</td>\n",
       "      <td>0.008707</td>\n",
       "      <td>0.969861</td>\n",
       "      <td>0.982175</td>\n",
       "      <td>0.982175</td>\n",
       "      <td>7.5</td>\n",
       "      <td>10.606602</td>\n",
       "      <td>0</td>\n",
       "      <td>15</td>\n",
       "      <td>0</td>\n",
       "      <td>...</td>\n",
       "      <td>0.001425</td>\n",
       "      <td>0.001168</td>\n",
       "      <td>0.003184</td>\n",
       "      <td>0.003184</td>\n",
       "      <td>0.0</td>\n",
       "      <td>0.0</td>\n",
       "      <td>0</td>\n",
       "      <td>0</td>\n",
       "      <td>0</td>\n",
       "      <td>0</td>\n",
       "    </tr>\n",
       "  </tbody>\n",
       "</table>\n",
       "<p>458913 rows × 941 columns</p>\n",
       "</div>"
      ],
      "text/plain": [
       "                                                    P_2_mean   P_2_std  \\\n",
       "customer_ID                                                              \n",
       "0000099d6bd597052cdcda90ffabf56573fe9d7c79be5fb...  0.936047  0.001841   \n",
       "00000fd6641609c6ece5454664794f0340ad84dddce9a26...  0.879688  0.001176   \n",
       "00001b22f846c82c51f6e3958ccd81970162bae8b007e80...  0.873608  0.010276   \n",
       "000041bdba6ecadd89a52d11886e8eaaec9325906c97233...  0.622584  0.001142   \n",
       "00007889e4fcd2614b6cbe7f8f3d2e5c728eca32d9eb8ad...  0.875569  0.005189   \n",
       "...                                                      ...       ...   \n",
       "ffff41c8a52833b56430603969b9ca48d208e7c192c6a40...  0.828347  0.022461   \n",
       "ffff518bb2075e4816ee3fe9f3b152c57fc0e6f01bf7fdd...  0.835069  0.005360   \n",
       "ffff9984b999fccb2b6127635ed0736dda94e544e67e026...  0.793664  0.009699   \n",
       "ffffa5c46bc8de74f5a4554e74e239c8dee6b9baf388145...  0.754291  0.000229   \n",
       "fffff1d38b785cef84adeace64f8f83db3a0c31e8d92eab...  0.976018  0.008707   \n",
       "\n",
       "                                                     P_2_min   P_2_max  \\\n",
       "customer_ID                                                              \n",
       "0000099d6bd597052cdcda90ffabf56573fe9d7c79be5fb...  0.934745  0.937349   \n",
       "00000fd6641609c6ece5454664794f0340ad84dddce9a26...  0.878856  0.880519   \n",
       "00001b22f846c82c51f6e3958ccd81970162bae8b007e80...  0.866342  0.880875   \n",
       "000041bdba6ecadd89a52d11886e8eaaec9325906c97233...  0.621776  0.623392   \n",
       "00007889e4fcd2614b6cbe7f8f3d2e5c728eca32d9eb8ad...  0.871900  0.879238   \n",
       "...                                                      ...       ...   \n",
       "ffff41c8a52833b56430603969b9ca48d208e7c192c6a40...  0.812465  0.844229   \n",
       "ffff518bb2075e4816ee3fe9f3b152c57fc0e6f01bf7fdd...  0.831279  0.838860   \n",
       "ffff9984b999fccb2b6127635ed0736dda94e544e67e026...  0.786806  0.800522   \n",
       "ffffa5c46bc8de74f5a4554e74e239c8dee6b9baf388145...  0.754129  0.754452   \n",
       "fffff1d38b785cef84adeace64f8f83db3a0c31e8d92eab...  0.969861  0.982175   \n",
       "\n",
       "                                                    P_2_last  D_39_mean  \\\n",
       "customer_ID                                                               \n",
       "0000099d6bd597052cdcda90ffabf56573fe9d7c79be5fb...  0.934745        0.0   \n",
       "00000fd6641609c6ece5454664794f0340ad84dddce9a26...  0.880519       12.0   \n",
       "00001b22f846c82c51f6e3958ccd81970162bae8b007e80...  0.880875        0.0   \n",
       "000041bdba6ecadd89a52d11886e8eaaec9325906c97233...  0.621776        0.0   \n",
       "00007889e4fcd2614b6cbe7f8f3d2e5c728eca32d9eb8ad...  0.871900        0.0   \n",
       "...                                                      ...        ...   \n",
       "ffff41c8a52833b56430603969b9ca48d208e7c192c6a40...  0.844229        7.5   \n",
       "ffff518bb2075e4816ee3fe9f3b152c57fc0e6f01bf7fdd...  0.831279        1.0   \n",
       "ffff9984b999fccb2b6127635ed0736dda94e544e67e026...  0.800522        8.5   \n",
       "ffffa5c46bc8de74f5a4554e74e239c8dee6b9baf388145...  0.754129        0.0   \n",
       "fffff1d38b785cef84adeace64f8f83db3a0c31e8d92eab...  0.982175        7.5   \n",
       "\n",
       "                                                     D_39_std  D_39_min  \\\n",
       "customer_ID                                                               \n",
       "0000099d6bd597052cdcda90ffabf56573fe9d7c79be5fb...   0.000000         0   \n",
       "00000fd6641609c6ece5454664794f0340ad84dddce9a26...   8.485281         6   \n",
       "00001b22f846c82c51f6e3958ccd81970162bae8b007e80...   0.000000         0   \n",
       "000041bdba6ecadd89a52d11886e8eaaec9325906c97233...   0.000000         0   \n",
       "00007889e4fcd2614b6cbe7f8f3d2e5c728eca32d9eb8ad...   0.000000         0   \n",
       "...                                                       ...       ...   \n",
       "ffff41c8a52833b56430603969b9ca48d208e7c192c6a40...  10.606602         0   \n",
       "ffff518bb2075e4816ee3fe9f3b152c57fc0e6f01bf7fdd...   0.000000         1   \n",
       "ffff9984b999fccb2b6127635ed0736dda94e544e67e026...   0.707107         8   \n",
       "ffffa5c46bc8de74f5a4554e74e239c8dee6b9baf388145...   0.000000         0   \n",
       "fffff1d38b785cef84adeace64f8f83db3a0c31e8d92eab...  10.606602         0   \n",
       "\n",
       "                                                    D_39_max  D_39_last  ...  \\\n",
       "customer_ID                                                              ...   \n",
       "0000099d6bd597052cdcda90ffabf56573fe9d7c79be5fb...         0          0  ...   \n",
       "00000fd6641609c6ece5454664794f0340ad84dddce9a26...        18          6  ...   \n",
       "00001b22f846c82c51f6e3958ccd81970162bae8b007e80...         0          0  ...   \n",
       "000041bdba6ecadd89a52d11886e8eaaec9325906c97233...         0          0  ...   \n",
       "00007889e4fcd2614b6cbe7f8f3d2e5c728eca32d9eb8ad...         0          0  ...   \n",
       "...                                                      ...        ...  ...   \n",
       "ffff41c8a52833b56430603969b9ca48d208e7c192c6a40...        15         15  ...   \n",
       "ffff518bb2075e4816ee3fe9f3b152c57fc0e6f01bf7fdd...         1          1  ...   \n",
       "ffff9984b999fccb2b6127635ed0736dda94e544e67e026...         9          9  ...   \n",
       "ffffa5c46bc8de74f5a4554e74e239c8dee6b9baf388145...         0          0  ...   \n",
       "fffff1d38b785cef84adeace64f8f83db3a0c31e8d92eab...        15          0  ...   \n",
       "\n",
       "                                                    D_144_std  D_144_min  \\\n",
       "customer_ID                                                                \n",
       "0000099d6bd597052cdcda90ffabf56573fe9d7c79be5fb...   0.002387   0.002970   \n",
       "00000fd6641609c6ece5454664794f0340ad84dddce9a26...   0.000453   0.002528   \n",
       "00001b22f846c82c51f6e3958ccd81970162bae8b007e80...   0.004590   0.000834   \n",
       "000041bdba6ecadd89a52d11886e8eaaec9325906c97233...   0.000524   0.004819   \n",
       "00007889e4fcd2614b6cbe7f8f3d2e5c728eca32d9eb8ad...   0.000437   0.006325   \n",
       "...                                                       ...        ...   \n",
       "ffff41c8a52833b56430603969b9ca48d208e7c192c6a40...   0.001422   0.003009   \n",
       "ffff518bb2075e4816ee3fe9f3b152c57fc0e6f01bf7fdd...   0.000521   0.009230   \n",
       "ffff9984b999fccb2b6127635ed0736dda94e544e67e026...   0.005271   0.000340   \n",
       "ffffa5c46bc8de74f5a4554e74e239c8dee6b9baf388145...   0.001289   0.002502   \n",
       "fffff1d38b785cef84adeace64f8f83db3a0c31e8d92eab...   0.001425   0.001168   \n",
       "\n",
       "                                                    D_144_max  D_144_last  \\\n",
       "customer_ID                                                                 \n",
       "0000099d6bd597052cdcda90ffabf56573fe9d7c79be5fb...   0.006346    0.002970   \n",
       "00000fd6641609c6ece5454664794f0340ad84dddce9a26...   0.003169    0.003169   \n",
       "00001b22f846c82c51f6e3958ccd81970162bae8b007e80...   0.007325    0.000834   \n",
       "000041bdba6ecadd89a52d11886e8eaaec9325906c97233...   0.005560    0.005560   \n",
       "00007889e4fcd2614b6cbe7f8f3d2e5c728eca32d9eb8ad...   0.006944    0.006944   \n",
       "...                                                       ...         ...   \n",
       "ffff41c8a52833b56430603969b9ca48d208e7c192c6a40...   0.005021    0.003009   \n",
       "ffff518bb2075e4816ee3fe9f3b152c57fc0e6f01bf7fdd...   0.009966    0.009230   \n",
       "ffff9984b999fccb2b6127635ed0736dda94e544e67e026...   0.007795    0.000340   \n",
       "ffffa5c46bc8de74f5a4554e74e239c8dee6b9baf388145...   0.004325    0.002502   \n",
       "fffff1d38b785cef84adeace64f8f83db3a0c31e8d92eab...   0.003184    0.003184   \n",
       "\n",
       "                                                    D_145_mean  D_145_std  \\\n",
       "customer_ID                                                                 \n",
       "0000099d6bd597052cdcda90ffabf56573fe9d7c79be5fb...         0.0        0.0   \n",
       "00000fd6641609c6ece5454664794f0340ad84dddce9a26...         0.0        0.0   \n",
       "00001b22f846c82c51f6e3958ccd81970162bae8b007e80...         0.0        0.0   \n",
       "000041bdba6ecadd89a52d11886e8eaaec9325906c97233...         0.0        0.0   \n",
       "00007889e4fcd2614b6cbe7f8f3d2e5c728eca32d9eb8ad...         0.0        0.0   \n",
       "...                                                        ...        ...   \n",
       "ffff41c8a52833b56430603969b9ca48d208e7c192c6a40...         0.0        0.0   \n",
       "ffff518bb2075e4816ee3fe9f3b152c57fc0e6f01bf7fdd...         0.0        0.0   \n",
       "ffff9984b999fccb2b6127635ed0736dda94e544e67e026...         0.0        0.0   \n",
       "ffffa5c46bc8de74f5a4554e74e239c8dee6b9baf388145...         2.0        0.0   \n",
       "fffff1d38b785cef84adeace64f8f83db3a0c31e8d92eab...         0.0        0.0   \n",
       "\n",
       "                                                    D_145_min  D_145_max  \\\n",
       "customer_ID                                                                \n",
       "0000099d6bd597052cdcda90ffabf56573fe9d7c79be5fb...          0          0   \n",
       "00000fd6641609c6ece5454664794f0340ad84dddce9a26...          0          0   \n",
       "00001b22f846c82c51f6e3958ccd81970162bae8b007e80...          0          0   \n",
       "000041bdba6ecadd89a52d11886e8eaaec9325906c97233...          0          0   \n",
       "00007889e4fcd2614b6cbe7f8f3d2e5c728eca32d9eb8ad...          0          0   \n",
       "...                                                       ...        ...   \n",
       "ffff41c8a52833b56430603969b9ca48d208e7c192c6a40...          0          0   \n",
       "ffff518bb2075e4816ee3fe9f3b152c57fc0e6f01bf7fdd...          0          0   \n",
       "ffff9984b999fccb2b6127635ed0736dda94e544e67e026...          0          0   \n",
       "ffffa5c46bc8de74f5a4554e74e239c8dee6b9baf388145...          2          2   \n",
       "fffff1d38b785cef84adeace64f8f83db3a0c31e8d92eab...          0          0   \n",
       "\n",
       "                                                    D_145_last  target  \n",
       "customer_ID                                                             \n",
       "0000099d6bd597052cdcda90ffabf56573fe9d7c79be5fb...           0       0  \n",
       "00000fd6641609c6ece5454664794f0340ad84dddce9a26...           0       0  \n",
       "00001b22f846c82c51f6e3958ccd81970162bae8b007e80...           0       0  \n",
       "000041bdba6ecadd89a52d11886e8eaaec9325906c97233...           0       0  \n",
       "00007889e4fcd2614b6cbe7f8f3d2e5c728eca32d9eb8ad...           0       0  \n",
       "...                                                        ...     ...  \n",
       "ffff41c8a52833b56430603969b9ca48d208e7c192c6a40...           0       0  \n",
       "ffff518bb2075e4816ee3fe9f3b152c57fc0e6f01bf7fdd...           0       0  \n",
       "ffff9984b999fccb2b6127635ed0736dda94e544e67e026...           0       0  \n",
       "ffffa5c46bc8de74f5a4554e74e239c8dee6b9baf388145...           2       1  \n",
       "fffff1d38b785cef84adeace64f8f83db3a0c31e8d92eab...           0       0  \n",
       "\n",
       "[458913 rows x 941 columns]"
      ]
     },
     "execution_count": 15,
     "metadata": {},
     "output_type": "execute_result"
    }
   ],
   "source": [
    "train_df"
   ]
  },
  {
   "cell_type": "markdown",
   "metadata": {
    "id": "3OsTsjEjBy9X"
   },
   "source": [
    "**Creating Training Labels and Data**"
   ]
  },
  {
   "cell_type": "code",
   "execution_count": 16,
   "metadata": {
    "execution": {
     "iopub.execute_input": "2022-09-20T07:10:38.981396Z",
     "iopub.status.busy": "2022-09-20T07:10:38.980343Z",
     "iopub.status.idle": "2022-09-20T07:10:39.154181Z",
     "shell.execute_reply": "2022-09-20T07:10:39.153081Z",
     "shell.execute_reply.started": "2022-09-20T07:10:38.981357Z"
    },
    "id": "Zf1DTdlGB1ax"
   },
   "outputs": [],
   "source": [
    "y = train_df['target']\n",
    "X = train_df.drop('target', axis=1)"
   ]
  },
  {
   "cell_type": "markdown",
   "metadata": {
    "id": "LHrq7Zb9B23r"
   },
   "source": [
    "**Handling missing values**\n",
    "\n",
    "Missing values are imputed with the respective column mean."
   ]
  },
  {
   "cell_type": "code",
   "execution_count": 17,
   "metadata": {
    "execution": {
     "iopub.execute_input": "2022-09-20T07:10:39.158496Z",
     "iopub.status.busy": "2022-09-20T07:10:39.158182Z",
     "iopub.status.idle": "2022-09-20T07:10:42.164966Z",
     "shell.execute_reply": "2022-09-20T07:10:42.163914Z",
     "shell.execute_reply.started": "2022-09-20T07:10:39.158457Z"
    },
    "id": "8daiUaCVB60d"
   },
   "outputs": [],
   "source": [
    "col_names = X.columns\n",
    "imputer = SimpleImputer()\n",
    "X = pd.DataFrame(imputer.fit_transform(X))  \n",
    "X.columns = col_names"
   ]
  },
  {
   "cell_type": "markdown",
   "metadata": {
    "id": "qh6JrJl_B8yx"
   },
   "source": [
    "**Standardization**\n",
    "\n",
    "To ascertain features are standardized by subtracting mean and scaling to unit variance."
   ]
  },
  {
   "cell_type": "code",
   "execution_count": 18,
   "metadata": {
    "execution": {
     "iopub.execute_input": "2022-09-20T07:10:42.16723Z",
     "iopub.status.busy": "2022-09-20T07:10:42.166565Z",
     "iopub.status.idle": "2022-09-20T07:10:44.549247Z",
     "shell.execute_reply": "2022-09-20T07:10:44.548029Z",
     "shell.execute_reply.started": "2022-09-20T07:10:42.167188Z"
    },
    "id": "-3PRnyWtCAn0"
   },
   "outputs": [],
   "source": [
    "scaler = StandardScaler()\n",
    "X = pd.DataFrame(scaler.fit_transform(X), index=X.index, columns=X.columns) "
   ]
  },
  {
   "cell_type": "markdown",
   "metadata": {
    "id": "mZtA4IiPCBxH"
   },
   "source": [
    "**Splitting into training and validation sets**\n",
    "\n",
    "The stratify method ensures that target variable does not get improperly distrubted leading to class imbalance."
   ]
  },
  {
   "cell_type": "code",
   "execution_count": 19,
   "metadata": {
    "execution": {
     "iopub.execute_input": "2022-09-20T07:10:44.551267Z",
     "iopub.status.busy": "2022-09-20T07:10:44.550767Z",
     "iopub.status.idle": "2022-09-20T07:10:45.852508Z",
     "shell.execute_reply": "2022-09-20T07:10:45.851563Z",
     "shell.execute_reply.started": "2022-09-20T07:10:44.551216Z"
    },
    "id": "7u5aT94eCA9m"
   },
   "outputs": [],
   "source": [
    "train_X, val_X, train_y, val_y = train_test_split(X, y, random_state = 1, shuffle=True, stratify=y, test_size=0.2)"
   ]
  },
  {
   "cell_type": "markdown",
   "metadata": {
    "id": "yoq_QnFpCH15"
   },
   "source": [
    "Memory cleanup to prevent out of memory error."
   ]
  },
  {
   "cell_type": "code",
   "execution_count": 20,
   "metadata": {
    "execution": {
     "iopub.execute_input": "2022-09-20T07:10:45.854699Z",
     "iopub.status.busy": "2022-09-20T07:10:45.854055Z",
     "iopub.status.idle": "2022-09-20T07:10:46.048617Z",
     "shell.execute_reply": "2022-09-20T07:10:46.047545Z",
     "shell.execute_reply.started": "2022-09-20T07:10:45.854661Z"
    },
    "id": "k4nD19XqCJIq",
    "outputId": "0c1ef5bf-ddf3-43c9-de2c-a5748ae92d2d"
   },
   "outputs": [
    {
     "data": {
      "text/plain": [
       "0"
      ]
     },
     "execution_count": 20,
     "metadata": {},
     "output_type": "execute_result"
    }
   ],
   "source": [
    "del data, labels, X, y\n",
    "gc.collect()"
   ]
  },
  {
   "cell_type": "markdown",
   "metadata": {
    "id": "U6Nv22blCKx7"
   },
   "source": [
    "# Model Building"
   ]
  },
  {
   "cell_type": "markdown",
   "metadata": {
    "id": "JZjVnacECOCR"
   },
   "source": [
    "**Logistic Regression**"
   ]
  },
  {
   "cell_type": "code",
   "execution_count": 146,
   "metadata": {
    "execution": {
     "iopub.execute_input": "2022-09-20T07:10:46.068129Z",
     "iopub.status.busy": "2022-09-20T07:10:46.067793Z",
     "iopub.status.idle": "2022-09-20T07:11:16.495281Z",
     "shell.execute_reply": "2022-09-20T07:11:16.493648Z",
     "shell.execute_reply.started": "2022-09-20T07:10:46.068096Z"
    },
    "id": "B_9n2xQ3FmpM",
    "outputId": "b0aaa516-66ef-4018-e745-31ee7972dbe9"
   },
   "outputs": [
    {
     "name": "stderr",
     "output_type": "stream",
     "text": [
      "/Users/alejandrozaccour/opt/anaconda3/lib/python3.9/site-packages/sklearn/linear_model/_logistic.py:458: ConvergenceWarning: lbfgs failed to converge (status=1):\n",
      "STOP: TOTAL NO. of ITERATIONS REACHED LIMIT.\n",
      "\n",
      "Increase the number of iterations (max_iter) or scale the data as shown in:\n",
      "    https://scikit-learn.org/stable/modules/preprocessing.html\n",
      "Please also refer to the documentation for alternative solver options:\n",
      "    https://scikit-learn.org/stable/modules/linear_model.html#logistic-regression\n",
      "  n_iter_i = _check_optimize_result(\n"
     ]
    },
    {
     "data": {
      "text/html": [
       "<style>#sk-container-id-5 {color: black;background-color: white;}#sk-container-id-5 pre{padding: 0;}#sk-container-id-5 div.sk-toggleable {background-color: white;}#sk-container-id-5 label.sk-toggleable__label {cursor: pointer;display: block;width: 100%;margin-bottom: 0;padding: 0.3em;box-sizing: border-box;text-align: center;}#sk-container-id-5 label.sk-toggleable__label-arrow:before {content: \"▸\";float: left;margin-right: 0.25em;color: #696969;}#sk-container-id-5 label.sk-toggleable__label-arrow:hover:before {color: black;}#sk-container-id-5 div.sk-estimator:hover label.sk-toggleable__label-arrow:before {color: black;}#sk-container-id-5 div.sk-toggleable__content {max-height: 0;max-width: 0;overflow: hidden;text-align: left;background-color: #f0f8ff;}#sk-container-id-5 div.sk-toggleable__content pre {margin: 0.2em;color: black;border-radius: 0.25em;background-color: #f0f8ff;}#sk-container-id-5 input.sk-toggleable__control:checked~div.sk-toggleable__content {max-height: 200px;max-width: 100%;overflow: auto;}#sk-container-id-5 input.sk-toggleable__control:checked~label.sk-toggleable__label-arrow:before {content: \"▾\";}#sk-container-id-5 div.sk-estimator input.sk-toggleable__control:checked~label.sk-toggleable__label {background-color: #d4ebff;}#sk-container-id-5 div.sk-label input.sk-toggleable__control:checked~label.sk-toggleable__label {background-color: #d4ebff;}#sk-container-id-5 input.sk-hidden--visually {border: 0;clip: rect(1px 1px 1px 1px);clip: rect(1px, 1px, 1px, 1px);height: 1px;margin: -1px;overflow: hidden;padding: 0;position: absolute;width: 1px;}#sk-container-id-5 div.sk-estimator {font-family: monospace;background-color: #f0f8ff;border: 1px dotted black;border-radius: 0.25em;box-sizing: border-box;margin-bottom: 0.5em;}#sk-container-id-5 div.sk-estimator:hover {background-color: #d4ebff;}#sk-container-id-5 div.sk-parallel-item::after {content: \"\";width: 100%;border-bottom: 1px solid gray;flex-grow: 1;}#sk-container-id-5 div.sk-label:hover label.sk-toggleable__label {background-color: #d4ebff;}#sk-container-id-5 div.sk-serial::before {content: \"\";position: absolute;border-left: 1px solid gray;box-sizing: border-box;top: 0;bottom: 0;left: 50%;z-index: 0;}#sk-container-id-5 div.sk-serial {display: flex;flex-direction: column;align-items: center;background-color: white;padding-right: 0.2em;padding-left: 0.2em;position: relative;}#sk-container-id-5 div.sk-item {position: relative;z-index: 1;}#sk-container-id-5 div.sk-parallel {display: flex;align-items: stretch;justify-content: center;background-color: white;position: relative;}#sk-container-id-5 div.sk-item::before, #sk-container-id-5 div.sk-parallel-item::before {content: \"\";position: absolute;border-left: 1px solid gray;box-sizing: border-box;top: 0;bottom: 0;left: 50%;z-index: -1;}#sk-container-id-5 div.sk-parallel-item {display: flex;flex-direction: column;z-index: 1;position: relative;background-color: white;}#sk-container-id-5 div.sk-parallel-item:first-child::after {align-self: flex-end;width: 50%;}#sk-container-id-5 div.sk-parallel-item:last-child::after {align-self: flex-start;width: 50%;}#sk-container-id-5 div.sk-parallel-item:only-child::after {width: 0;}#sk-container-id-5 div.sk-dashed-wrapped {border: 1px dashed gray;margin: 0 0.4em 0.5em 0.4em;box-sizing: border-box;padding-bottom: 0.4em;background-color: white;}#sk-container-id-5 div.sk-label label {font-family: monospace;font-weight: bold;display: inline-block;line-height: 1.2em;}#sk-container-id-5 div.sk-label-container {text-align: center;}#sk-container-id-5 div.sk-container {/* jupyter's `normalize.less` sets `[hidden] { display: none; }` but bootstrap.min.css set `[hidden] { display: none !important; }` so we also need the `!important` here to be able to override the default hidden behavior on the sphinx rendered scikit-learn.org. See: https://github.com/scikit-learn/scikit-learn/issues/21755 */display: inline-block !important;position: relative;}#sk-container-id-5 div.sk-text-repr-fallback {display: none;}</style><div id=\"sk-container-id-5\" class=\"sk-top-container\"><div class=\"sk-text-repr-fallback\"><pre>LogisticRegression(C=100000.0, n_jobs=1)</pre><b>In a Jupyter environment, please rerun this cell to show the HTML representation or trust the notebook. <br />On GitHub, the HTML representation is unable to render, please try loading this page with nbviewer.org.</b></div><div class=\"sk-container\" hidden><div class=\"sk-item\"><div class=\"sk-estimator sk-toggleable\"><input class=\"sk-toggleable__control sk-hidden--visually\" id=\"sk-estimator-id-5\" type=\"checkbox\" checked><label for=\"sk-estimator-id-5\" class=\"sk-toggleable__label sk-toggleable__label-arrow\">LogisticRegression</label><div class=\"sk-toggleable__content\"><pre>LogisticRegression(C=100000.0, n_jobs=1)</pre></div></div></div></div></div>"
      ],
      "text/plain": [
       "LogisticRegression(C=100000.0, n_jobs=1)"
      ]
     },
     "execution_count": 146,
     "metadata": {},
     "output_type": "execute_result"
    }
   ],
   "source": [
    "clf_lr = LogisticRegression(n_jobs=1, C=1e5)\n",
    "clf_lr.fit(train_X, train_y)"
   ]
  },
  {
   "cell_type": "code",
   "execution_count": 147,
   "metadata": {
    "execution": {
     "iopub.execute_input": "2022-09-20T07:11:16.497491Z",
     "iopub.status.busy": "2022-09-20T07:11:16.497125Z",
     "iopub.status.idle": "2022-09-20T07:11:17.163835Z",
     "shell.execute_reply": "2022-09-20T07:11:17.162594Z",
     "shell.execute_reply.started": "2022-09-20T07:11:16.497456Z"
    },
    "id": "4Xmda0i5FvLf",
    "outputId": "00ed1922-0b76-4a4c-d1d7-cbcc90d0cd1e"
   },
   "outputs": [
    {
     "name": "stdout",
     "output_type": "stream",
     "text": [
      "Accuracy on Validation set : 0.8974210910517199\n",
      "\n",
      "\n",
      "              precision    recall  f1-score   support\n",
      "\n",
      "           0       0.92      0.94      0.93     68017\n",
      "           1       0.82      0.78      0.80     23766\n",
      "\n",
      "    accuracy                           0.90     91783\n",
      "   macro avg       0.87      0.86      0.86     91783\n",
      "weighted avg       0.90      0.90      0.90     91783\n",
      "\n",
      "CPU times: user 779 ms, sys: 992 ms, total: 1.77 s\n",
      "Wall time: 2.67 s\n"
     ]
    }
   ],
   "source": [
    "%%time\n",
    "y_pred_val_lr = clf_lr.predict(val_X)\n",
    "print('Accuracy on Validation set :',accuracy_score(val_y, y_pred_val_lr))\n",
    "print(\"\\n\")\n",
    "print(classification_report(val_y, y_pred_val_lr))"
   ]
  },
  {
   "cell_type": "raw",
   "metadata": {},
   "source": [
    "predictions = clf_lr.predict(val_X)"
   ]
  },
  {
   "cell_type": "code",
   "execution_count": 148,
   "metadata": {},
   "outputs": [
    {
     "data": {
      "text/plain": [
       "<AxesSubplot:>"
      ]
     },
     "execution_count": 148,
     "metadata": {},
     "output_type": "execute_result"
    },
    {
     "data": {
      "image/png": "[encoded data removed]",
      "text/plain": [
       "<Figure size 432x288 with 2 Axes>"
      ]
     },
     "metadata": {
      "needs_background": "light"
     },
     "output_type": "display_data"
    }
   ],
   "source": [
    "cf_matrix = confusion_matrix(val_y, predictions)\n",
    "sns.heatmap(cf_matrix/np.sum(cf_matrix), annot=True, \n",
    "            fmt='.2%', cmap='Purples')"
   ]
  },
  {
   "cell_type": "code",
   "execution_count": 149,
   "metadata": {},
   "outputs": [
    {
     "name": "stdout",
     "output_type": "stream",
     "text": [
      "The AUC of the model is: 0.8593687436089307\n"
     ]
    },
    {
     "data": {
      "image/png": "[encoded data removed]",
      "text/plain": [
       "<Figure size 432x288 with 1 Axes>"
      ]
     },
     "metadata": {
      "needs_background": "light"
     },
     "output_type": "display_data"
    }
   ],
   "source": [
    "print('The AUC of the model is:', roc_auc_score(val_y, y_pred_val_lr, multi_class='ovr'))\n",
    "\n",
    "RocCurveDisplay.from_predictions(\n",
    "    val_y,\n",
    "    y_pred_val_lr,\n",
    "    color=\"purple\",\n",
    ")\n",
    "plt.plot([0, 1], [0, 1] , color = 'grey')\n",
    "plt.axis(\"square\")\n",
    "plt.xlabel(\"False Positive Rate\")\n",
    "plt.ylabel(\"True Positive Rate\")\n",
    "plt.title(\"ROC curve\")\n",
    "plt.legend()\n",
    "plt.show()"
   ]
  },
  {
   "cell_type": "markdown",
   "metadata": {
    "id": "qk1H7JDKDDeO"
   },
   "source": [
    "**Decision Tree Classifier**"
   ]
  },
  {
   "cell_type": "code",
   "execution_count": 29,
   "metadata": {
    "execution": {
     "iopub.execute_input": "2022-09-20T07:11:22.320514Z",
     "iopub.status.busy": "2022-09-20T07:11:22.320137Z",
     "iopub.status.idle": "2022-09-20T07:17:01.052009Z",
     "shell.execute_reply": "2022-09-20T07:17:01.0509Z",
     "shell.execute_reply.started": "2022-09-20T07:11:22.320478Z"
    },
    "id": "Zt6oA1xFF_oA",
    "outputId": "50a46811-d876-4b2a-8db6-2ac716d188b7"
   },
   "outputs": [
    {
     "data": {
      "text/html": [
       "<style>#sk-container-id-2 {color: black;background-color: white;}#sk-container-id-2 pre{padding: 0;}#sk-container-id-2 div.sk-toggleable {background-color: white;}#sk-container-id-2 label.sk-toggleable__label {cursor: pointer;display: block;width: 100%;margin-bottom: 0;padding: 0.3em;box-sizing: border-box;text-align: center;}#sk-container-id-2 label.sk-toggleable__label-arrow:before {content: \"▸\";float: left;margin-right: 0.25em;color: #696969;}#sk-container-id-2 label.sk-toggleable__label-arrow:hover:before {color: black;}#sk-container-id-2 div.sk-estimator:hover label.sk-toggleable__label-arrow:before {color: black;}#sk-container-id-2 div.sk-toggleable__content {max-height: 0;max-width: 0;overflow: hidden;text-align: left;background-color: #f0f8ff;}#sk-container-id-2 div.sk-toggleable__content pre {margin: 0.2em;color: black;border-radius: 0.25em;background-color: #f0f8ff;}#sk-container-id-2 input.sk-toggleable__control:checked~div.sk-toggleable__content {max-height: 200px;max-width: 100%;overflow: auto;}#sk-container-id-2 input.sk-toggleable__control:checked~label.sk-toggleable__label-arrow:before {content: \"▾\";}#sk-container-id-2 div.sk-estimator input.sk-toggleable__control:checked~label.sk-toggleable__label {background-color: #d4ebff;}#sk-container-id-2 div.sk-label input.sk-toggleable__control:checked~label.sk-toggleable__label {background-color: #d4ebff;}#sk-container-id-2 input.sk-hidden--visually {border: 0;clip: rect(1px 1px 1px 1px);clip: rect(1px, 1px, 1px, 1px);height: 1px;margin: -1px;overflow: hidden;padding: 0;position: absolute;width: 1px;}#sk-container-id-2 div.sk-estimator {font-family: monospace;background-color: #f0f8ff;border: 1px dotted black;border-radius: 0.25em;box-sizing: border-box;margin-bottom: 0.5em;}#sk-container-id-2 div.sk-estimator:hover {background-color: #d4ebff;}#sk-container-id-2 div.sk-parallel-item::after {content: \"\";width: 100%;border-bottom: 1px solid gray;flex-grow: 1;}#sk-container-id-2 div.sk-label:hover label.sk-toggleable__label {background-color: #d4ebff;}#sk-container-id-2 div.sk-serial::before {content: \"\";position: absolute;border-left: 1px solid gray;box-sizing: border-box;top: 0;bottom: 0;left: 50%;z-index: 0;}#sk-container-id-2 div.sk-serial {display: flex;flex-direction: column;align-items: center;background-color: white;padding-right: 0.2em;padding-left: 0.2em;position: relative;}#sk-container-id-2 div.sk-item {position: relative;z-index: 1;}#sk-container-id-2 div.sk-parallel {display: flex;align-items: stretch;justify-content: center;background-color: white;position: relative;}#sk-container-id-2 div.sk-item::before, #sk-container-id-2 div.sk-parallel-item::before {content: \"\";position: absolute;border-left: 1px solid gray;box-sizing: border-box;top: 0;bottom: 0;left: 50%;z-index: -1;}#sk-container-id-2 div.sk-parallel-item {display: flex;flex-direction: column;z-index: 1;position: relative;background-color: white;}#sk-container-id-2 div.sk-parallel-item:first-child::after {align-self: flex-end;width: 50%;}#sk-container-id-2 div.sk-parallel-item:last-child::after {align-self: flex-start;width: 50%;}#sk-container-id-2 div.sk-parallel-item:only-child::after {width: 0;}#sk-container-id-2 div.sk-dashed-wrapped {border: 1px dashed gray;margin: 0 0.4em 0.5em 0.4em;box-sizing: border-box;padding-bottom: 0.4em;background-color: white;}#sk-container-id-2 div.sk-label label {font-family: monospace;font-weight: bold;display: inline-block;line-height: 1.2em;}#sk-container-id-2 div.sk-label-container {text-align: center;}#sk-container-id-2 div.sk-container {/* jupyter's `normalize.less` sets `[hidden] { display: none; }` but bootstrap.min.css set `[hidden] { display: none !important; }` so we also need the `!important` here to be able to override the default hidden behavior on the sphinx rendered scikit-learn.org. See: https://github.com/scikit-learn/scikit-learn/issues/21755 */display: inline-block !important;position: relative;}#sk-container-id-2 div.sk-text-repr-fallback {display: none;}</style><div id=\"sk-container-id-2\" class=\"sk-top-container\"><div class=\"sk-text-repr-fallback\"><pre>DecisionTreeClassifier(random_state=0)</pre><b>In a Jupyter environment, please rerun this cell to show the HTML representation or trust the notebook. <br />On GitHub, the HTML representation is unable to render, please try loading this page with nbviewer.org.</b></div><div class=\"sk-container\" hidden><div class=\"sk-item\"><div class=\"sk-estimator sk-toggleable\"><input class=\"sk-toggleable__control sk-hidden--visually\" id=\"sk-estimator-id-2\" type=\"checkbox\" checked><label for=\"sk-estimator-id-2\" class=\"sk-toggleable__label sk-toggleable__label-arrow\">DecisionTreeClassifier</label><div class=\"sk-toggleable__content\"><pre>DecisionTreeClassifier(random_state=0)</pre></div></div></div></div></div>"
      ],
      "text/plain": [
       "DecisionTreeClassifier(random_state=0)"
      ]
     },
     "execution_count": 29,
     "metadata": {},
     "output_type": "execute_result"
    }
   ],
   "source": [
    "dc = DecisionTreeClassifier(random_state=0)\n",
    "dc.fit(train_X, train_y)"
   ]
  },
  {
   "cell_type": "code",
   "execution_count": 30,
   "metadata": {
    "execution": {
     "iopub.execute_input": "2022-09-20T07:17:01.053872Z",
     "iopub.status.busy": "2022-09-20T07:17:01.053401Z",
     "iopub.status.idle": "2022-09-20T07:17:01.433625Z",
     "shell.execute_reply": "2022-09-20T07:17:01.43253Z",
     "shell.execute_reply.started": "2022-09-20T07:17:01.053828Z"
    },
    "id": "Xuq8ysSrGEJu",
    "outputId": "7f5423ab-8f45-4798-e3de-ece1c07a2468"
   },
   "outputs": [
    {
     "name": "stdout",
     "output_type": "stream",
     "text": [
      "Accuracy on Validation set : 0.8442522035671094\n",
      "\n",
      "\n",
      "              precision    recall  f1-score   support\n",
      "\n",
      "           0       0.89      0.90      0.89     68017\n",
      "           1       0.70      0.70      0.70     23766\n",
      "\n",
      "    accuracy                           0.84     91783\n",
      "   macro avg       0.80      0.80      0.80     91783\n",
      "weighted avg       0.84      0.84      0.84     91783\n",
      "\n",
      "CPU times: user 265 ms, sys: 491 ms, total: 755 ms\n",
      "Wall time: 1.58 s\n"
     ]
    }
   ],
   "source": [
    "%%time\n",
    "y_pred_val_dc = dc.predict(val_X)\n",
    "print('Accuracy on Validation set :',accuracy_score(val_y, y_pred_val_dc))\n",
    "print(\"\\n\")\n",
    "print(classification_report(val_y, y_pred_val_dc))"
   ]
  },
  {
   "cell_type": "code",
   "execution_count": 150,
   "metadata": {},
   "outputs": [
    {
     "name": "stdout",
     "output_type": "stream",
     "text": [
      "Accuracy = 84.4%\n",
      "Confusion matrix = \n",
      "[[60917  7100]\n",
      " [ 7195 16571]]\n",
      "Precision = 70.0%\n",
      "Recall    = 69.7%\n"
     ]
    }
   ],
   "source": [
    "accuracy = metrics.accuracy_score(val_y, y_pred_val_dc) \n",
    "print(\"Accuracy = {:0.1f}%\".format(accuracy * 100))\n",
    "\n",
    "# The matrix of predictions and true values for each class.\n",
    "conf_matrix = metrics.confusion_matrix(val_y, y_pred_val_dc)\n",
    "print(\"Confusion matrix = \")\n",
    "print(conf_matrix)\n",
    "\n",
    "# Precision score.\n",
    "precision = metrics.precision_score(val_y, y_pred_val_dc)\n",
    "print(\"Precision = {:0.1f}%\".format(100 * precision))\n",
    "\n",
    "# Recall score.\n",
    "recall = metrics.recall_score(val_y, y_pred_val_dc)\n",
    "print(\"Recall    = {:0.1f}%\".format(100 * recall))"
   ]
  },
  {
   "cell_type": "code",
   "execution_count": 31,
   "metadata": {
    "execution": {
     "iopub.execute_input": "2022-09-20T07:17:01.435661Z",
     "iopub.status.busy": "2022-09-20T07:17:01.435245Z",
     "iopub.status.idle": "2022-09-20T07:17:01.719342Z",
     "shell.execute_reply": "2022-09-20T07:17:01.718445Z",
     "shell.execute_reply.started": "2022-09-20T07:17:01.435622Z"
    },
    "id": "7EQRL22nGF-r",
    "outputId": "515c737d-92c1-47e0-b936-ad60c41f621c"
   },
   "outputs": [
    {
     "data": {
      "text/plain": [
       "<AxesSubplot:>"
      ]
     },
     "execution_count": 31,
     "metadata": {},
     "output_type": "execute_result"
    },
    {
     "data": {
      "image/png": "[encoded data removed]",
      "text/plain": [
       "<Figure size 432x288 with 2 Axes>"
      ]
     },
     "metadata": {
      "needs_background": "light"
     },
     "output_type": "display_data"
    }
   ],
   "source": [
    "cf_matrix = confusion_matrix(val_y, y_pred_val_dc)\n",
    "sns.heatmap(cf_matrix/np.sum(cf_matrix), annot=True, \n",
    "            fmt='.2%', cmap='Purples')"
   ]
  },
  {
   "cell_type": "code",
   "execution_count": 32,
   "metadata": {},
   "outputs": [
    {
     "name": "stdout",
     "output_type": "stream",
     "text": [
      "The AUC of the model is: 0.7964354583743192\n"
     ]
    },
    {
     "data": {
      "image/png": "[encoded data removed]",
      "text/plain": [
       "<Figure size 432x288 with 1 Axes>"
      ]
     },
     "metadata": {
      "needs_background": "light"
     },
     "output_type": "display_data"
    }
   ],
   "source": [
    "print('The AUC of the model is:', roc_auc_score(val_y, y_pred_val_dc, multi_class='ovr'))\n",
    "\n",
    "RocCurveDisplay.from_predictions(\n",
    "    val_y,\n",
    "    y_pred_val_dc,\n",
    "    color=\"purple\",\n",
    ")\n",
    "plt.plot([0, 1], [0, 1] , color = 'grey')\n",
    "plt.axis(\"square\")\n",
    "plt.xlabel(\"False Positive Rate\")\n",
    "plt.ylabel(\"True Positive Rate\")\n",
    "plt.title(\"ROC curve\")\n",
    "plt.legend()\n",
    "plt.show()"
   ]
  },
  {
   "cell_type": "markdown",
   "metadata": {
    "id": "yuevDbYDDKL2"
   },
   "source": [
    "**XGBoost**"
   ]
  },
  {
   "cell_type": "code",
   "execution_count": 33,
   "metadata": {
    "execution": {
     "iopub.execute_input": "2022-09-20T07:17:03.568895Z",
     "iopub.status.busy": "2022-09-20T07:17:03.568481Z",
     "iopub.status.idle": "2022-09-20T07:18:04.544921Z",
     "shell.execute_reply": "2022-09-20T07:18:04.544192Z",
     "shell.execute_reply.started": "2022-09-20T07:17:03.568848Z"
    },
    "id": "UkmMNOetGvjo",
    "outputId": "573453cc-9f95-4f7f-ac87-045ac50dec0a"
   },
   "outputs": [
    {
     "data": {
      "text/html": [
       "<style>#sk-container-id-3 {color: black;background-color: white;}#sk-container-id-3 pre{padding: 0;}#sk-container-id-3 div.sk-toggleable {background-color: white;}#sk-container-id-3 label.sk-toggleable__label {cursor: pointer;display: block;width: 100%;margin-bottom: 0;padding: 0.3em;box-sizing: border-box;text-align: center;}#sk-container-id-3 label.sk-toggleable__label-arrow:before {content: \"▸\";float: left;margin-right: 0.25em;color: #696969;}#sk-container-id-3 label.sk-toggleable__label-arrow:hover:before {color: black;}#sk-container-id-3 div.sk-estimator:hover label.sk-toggleable__label-arrow:before {color: black;}#sk-container-id-3 div.sk-toggleable__content {max-height: 0;max-width: 0;overflow: hidden;text-align: left;background-color: #f0f8ff;}#sk-container-id-3 div.sk-toggleable__content pre {margin: 0.2em;color: black;border-radius: 0.25em;background-color: #f0f8ff;}#sk-container-id-3 input.sk-toggleable__control:checked~div.sk-toggleable__content {max-height: 200px;max-width: 100%;overflow: auto;}#sk-container-id-3 input.sk-toggleable__control:checked~label.sk-toggleable__label-arrow:before {content: \"▾\";}#sk-container-id-3 div.sk-estimator input.sk-toggleable__control:checked~label.sk-toggleable__label {background-color: #d4ebff;}#sk-container-id-3 div.sk-label input.sk-toggleable__control:checked~label.sk-toggleable__label {background-color: #d4ebff;}#sk-container-id-3 input.sk-hidden--visually {border: 0;clip: rect(1px 1px 1px 1px);clip: rect(1px, 1px, 1px, 1px);height: 1px;margin: -1px;overflow: hidden;padding: 0;position: absolute;width: 1px;}#sk-container-id-3 div.sk-estimator {font-family: monospace;background-color: #f0f8ff;border: 1px dotted black;border-radius: 0.25em;box-sizing: border-box;margin-bottom: 0.5em;}#sk-container-id-3 div.sk-estimator:hover {background-color: #d4ebff;}#sk-container-id-3 div.sk-parallel-item::after {content: \"\";width: 100%;border-bottom: 1px solid gray;flex-grow: 1;}#sk-container-id-3 div.sk-label:hover label.sk-toggleable__label {background-color: #d4ebff;}#sk-container-id-3 div.sk-serial::before {content: \"\";position: absolute;border-left: 1px solid gray;box-sizing: border-box;top: 0;bottom: 0;left: 50%;z-index: 0;}#sk-container-id-3 div.sk-serial {display: flex;flex-direction: column;align-items: center;background-color: white;padding-right: 0.2em;padding-left: 0.2em;position: relative;}#sk-container-id-3 div.sk-item {position: relative;z-index: 1;}#sk-container-id-3 div.sk-parallel {display: flex;align-items: stretch;justify-content: center;background-color: white;position: relative;}#sk-container-id-3 div.sk-item::before, #sk-container-id-3 div.sk-parallel-item::before {content: \"\";position: absolute;border-left: 1px solid gray;box-sizing: border-box;top: 0;bottom: 0;left: 50%;z-index: -1;}#sk-container-id-3 div.sk-parallel-item {display: flex;flex-direction: column;z-index: 1;position: relative;background-color: white;}#sk-container-id-3 div.sk-parallel-item:first-child::after {align-self: flex-end;width: 50%;}#sk-container-id-3 div.sk-parallel-item:last-child::after {align-self: flex-start;width: 50%;}#sk-container-id-3 div.sk-parallel-item:only-child::after {width: 0;}#sk-container-id-3 div.sk-dashed-wrapped {border: 1px dashed gray;margin: 0 0.4em 0.5em 0.4em;box-sizing: border-box;padding-bottom: 0.4em;background-color: white;}#sk-container-id-3 div.sk-label label {font-family: monospace;font-weight: bold;display: inline-block;line-height: 1.2em;}#sk-container-id-3 div.sk-label-container {text-align: center;}#sk-container-id-3 div.sk-container {/* jupyter's `normalize.less` sets `[hidden] { display: none; }` but bootstrap.min.css set `[hidden] { display: none !important; }` so we also need the `!important` here to be able to override the default hidden behavior on the sphinx rendered scikit-learn.org. See: https://github.com/scikit-learn/scikit-learn/issues/21755 */display: inline-block !important;position: relative;}#sk-container-id-3 div.sk-text-repr-fallback {display: none;}</style><div id=\"sk-container-id-3\" class=\"sk-top-container\"><div class=\"sk-text-repr-fallback\"><pre>XGBClassifier(base_score=0.5, booster=&#x27;gbtree&#x27;, callbacks=None,\n",
       "              colsample_bylevel=1, colsample_bynode=1, colsample_bytree=1,\n",
       "              early_stopping_rounds=None, enable_categorical=False,\n",
       "              eval_metric=None, feature_types=None, gamma=0, gpu_id=-1,\n",
       "              grow_policy=&#x27;depthwise&#x27;, importance_type=None,\n",
       "              interaction_constraints=&#x27;&#x27;, learning_rate=0.300000012,\n",
       "              max_bin=256, max_cat_threshold=64, max_cat_to_onehot=4,\n",
       "              max_delta_step=0, max_depth=6, max_leaves=0, min_child_weight=1,\n",
       "              missing=nan, monotone_constraints=&#x27;()&#x27;, n_estimators=100,\n",
       "              n_jobs=0, num_parallel_tree=1, predictor=&#x27;auto&#x27;, random_state=0, ...)</pre><b>In a Jupyter environment, please rerun this cell to show the HTML representation or trust the notebook. <br />On GitHub, the HTML representation is unable to render, please try loading this page with nbviewer.org.</b></div><div class=\"sk-container\" hidden><div class=\"sk-item\"><div class=\"sk-estimator sk-toggleable\"><input class=\"sk-toggleable__control sk-hidden--visually\" id=\"sk-estimator-id-3\" type=\"checkbox\" checked><label for=\"sk-estimator-id-3\" class=\"sk-toggleable__label sk-toggleable__label-arrow\">XGBClassifier</label><div class=\"sk-toggleable__content\"><pre>XGBClassifier(base_score=0.5, booster=&#x27;gbtree&#x27;, callbacks=None,\n",
       "              colsample_bylevel=1, colsample_bynode=1, colsample_bytree=1,\n",
       "              early_stopping_rounds=None, enable_categorical=False,\n",
       "              eval_metric=None, feature_types=None, gamma=0, gpu_id=-1,\n",
       "              grow_policy=&#x27;depthwise&#x27;, importance_type=None,\n",
       "              interaction_constraints=&#x27;&#x27;, learning_rate=0.300000012,\n",
       "              max_bin=256, max_cat_threshold=64, max_cat_to_onehot=4,\n",
       "              max_delta_step=0, max_depth=6, max_leaves=0, min_child_weight=1,\n",
       "              missing=nan, monotone_constraints=&#x27;()&#x27;, n_estimators=100,\n",
       "              n_jobs=0, num_parallel_tree=1, predictor=&#x27;auto&#x27;, random_state=0, ...)</pre></div></div></div></div></div>"
      ],
      "text/plain": [
       "XGBClassifier(base_score=0.5, booster='gbtree', callbacks=None,\n",
       "              colsample_bylevel=1, colsample_bynode=1, colsample_bytree=1,\n",
       "              early_stopping_rounds=None, enable_categorical=False,\n",
       "              eval_metric=None, feature_types=None, gamma=0, gpu_id=-1,\n",
       "              grow_policy='depthwise', importance_type=None,\n",
       "              interaction_constraints='', learning_rate=0.300000012,\n",
       "              max_bin=256, max_cat_threshold=64, max_cat_to_onehot=4,\n",
       "              max_delta_step=0, max_depth=6, max_leaves=0, min_child_weight=1,\n",
       "              missing=nan, monotone_constraints='()', n_estimators=100,\n",
       "              n_jobs=0, num_parallel_tree=1, predictor='auto', random_state=0, ...)"
      ]
     },
     "execution_count": 33,
     "metadata": {},
     "output_type": "execute_result"
    }
   ],
   "source": [
    "xgb = XGBClassifier()\n",
    "xgb.fit(train_X, train_y)"
   ]
  },
  {
   "cell_type": "code",
   "execution_count": 34,
   "metadata": {
    "execution": {
     "iopub.execute_input": "2022-09-20T07:18:04.550245Z",
     "iopub.status.busy": "2022-09-20T07:18:04.548231Z",
     "iopub.status.idle": "2022-09-20T07:18:05.823474Z",
     "shell.execute_reply": "2022-09-20T07:18:05.822197Z",
     "shell.execute_reply.started": "2022-09-20T07:18:04.550214Z"
    },
    "id": "ur2JUHdHGzGy",
    "outputId": "89758e96-dfaf-4ab4-933b-c8587c664018"
   },
   "outputs": [
    {
     "name": "stdout",
     "output_type": "stream",
     "text": [
      "Accuracy on Validation set : 0.8972794526219452\n",
      "\n",
      "\n",
      "              precision    recall  f1-score   support\n",
      "\n",
      "           0       0.93      0.93      0.93     68017\n",
      "           1       0.81      0.79      0.80     23766\n",
      "\n",
      "    accuracy                           0.90     91783\n",
      "   macro avg       0.87      0.86      0.87     91783\n",
      "weighted avg       0.90      0.90      0.90     91783\n",
      "\n",
      "CPU times: user 8.18 s, sys: 1.75 s, total: 9.92 s\n",
      "Wall time: 2.09 s\n"
     ]
    }
   ],
   "source": [
    "%%time\n",
    "y_pred_val_xgb = xgb.predict(val_X)\n",
    "print('Accuracy on Validation set :',accuracy_score(val_y, y_pred_val_xgb))\n",
    "print(\"\\n\")\n",
    "print(classification_report(val_y, y_pred_val_xgb))"
   ]
  },
  {
   "cell_type": "code",
   "execution_count": 35,
   "metadata": {
    "execution": {
     "iopub.execute_input": "2022-09-20T07:18:05.825821Z",
     "iopub.status.busy": "2022-09-20T07:18:05.825063Z",
     "iopub.status.idle": "2022-09-20T07:18:06.110318Z",
     "shell.execute_reply": "2022-09-20T07:18:06.1094Z",
     "shell.execute_reply.started": "2022-09-20T07:18:05.825776Z"
    },
    "id": "7NjRqDq-G1YX",
    "outputId": "177601a7-872e-45b9-fb17-21e5ef055378"
   },
   "outputs": [
    {
     "data": {
      "text/plain": [
       "<AxesSubplot:>"
      ]
     },
     "execution_count": 35,
     "metadata": {},
     "output_type": "execute_result"
    },
    {
     "data": {
      "image/png": "[encoded data removed]",
      "text/plain": [
       "<Figure size 432x288 with 2 Axes>"
      ]
     },
     "metadata": {
      "needs_background": "light"
     },
     "output_type": "display_data"
    }
   ],
   "source": [
    "cf_matrix = confusion_matrix(val_y, y_pred_val_xgb)\n",
    "sns.heatmap(cf_matrix/np.sum(cf_matrix), annot=True, \n",
    "            fmt='.2%', cmap='Purples')"
   ]
  },
  {
   "cell_type": "code",
   "execution_count": 151,
   "metadata": {},
   "outputs": [
    {
     "name": "stdout",
     "output_type": "stream",
     "text": [
      "Accuracy = 89.7%\n",
      "Confusion matrix = \n",
      "[[63485  4532]\n",
      " [ 4896 18870]]\n",
      "Precision = 80.6%\n",
      "Recall    = 79.4%\n"
     ]
    }
   ],
   "source": [
    "accuracy = metrics.accuracy_score(val_y, y_pred_val_xgb) \n",
    "print(\"Accuracy = {:0.1f}%\".format(accuracy * 100))\n",
    "\n",
    "# The matrix of predictions and true values for each class.\n",
    "conf_matrix = metrics.confusion_matrix(val_y, y_pred_val_xgb)\n",
    "print(\"Confusion matrix = \")\n",
    "print(conf_matrix)\n",
    "\n",
    "# Precision score.\n",
    "precision = metrics.precision_score(val_y, y_pred_val_xgb)\n",
    "print(\"Precision = {:0.1f}%\".format(100 * precision))\n",
    "\n",
    "# Recall score.\n",
    "recall = metrics.recall_score(val_y, y_pred_val_xgb)\n",
    "print(\"Recall    = {:0.1f}%\".format(100 * recall))"
   ]
  },
  {
   "cell_type": "code",
   "execution_count": 36,
   "metadata": {
    "scrolled": true
   },
   "outputs": [
    {
     "name": "stdout",
     "output_type": "stream",
     "text": [
      "The AUC of the model is: 0.8636805075428945\n"
     ]
    },
    {
     "data": {
      "image/png": "[encoded data removed]",
      "text/plain": [
       "<Figure size 432x288 with 1 Axes>"
      ]
     },
     "metadata": {
      "needs_background": "light"
     },
     "output_type": "display_data"
    }
   ],
   "source": [
    "print('The AUC of the model is:', roc_auc_score(val_y, y_pred_val_xgb, multi_class='ovr'))\n",
    "\n",
    "RocCurveDisplay.from_predictions(\n",
    "    val_y,\n",
    "    y_pred_val_xgb,\n",
    "    color=\"purple\",\n",
    ")\n",
    "plt.plot([0, 1], [0, 1] , color = 'grey')\n",
    "plt.axis(\"square\")\n",
    "plt.xlabel(\"False Positive Rate\")\n",
    "plt.ylabel(\"True Positive Rate\")\n",
    "plt.title(\"ROC curve\")\n",
    "plt.legend()\n",
    "plt.show()"
   ]
  },
  {
   "cell_type": "markdown",
   "metadata": {
    "id": "lE7xQwBZDchN"
   },
   "source": [
    "**Neural Network**"
   ]
  },
  {
   "cell_type": "code",
   "execution_count": 37,
   "metadata": {
    "execution": {
     "iopub.execute_input": "2022-09-20T07:18:06.403999Z",
     "iopub.status.busy": "2022-09-20T07:18:06.403563Z",
     "iopub.status.idle": "2022-09-20T07:33:09.599135Z",
     "shell.execute_reply": "2022-09-20T07:33:09.598161Z",
     "shell.execute_reply.started": "2022-09-20T07:18:06.403964Z"
    },
    "id": "eTtqeCcTGcUT",
    "outputId": "e0ce14b7-f1c5-425b-932e-1b307d57ade9"
   },
   "outputs": [
    {
     "name": "stderr",
     "output_type": "stream",
     "text": [
      "/Users/alejandrozaccour/opt/anaconda3/lib/python3.9/site-packages/sklearn/neural_network/_multilayer_perceptron.py:686: UserWarning: Training interrupted by user.\n",
      "  warnings.warn(\"Training interrupted by user.\")\n"
     ]
    },
    {
     "data": {
      "text/html": [
       "<style>#sk-container-id-4 {color: black;background-color: white;}#sk-container-id-4 pre{padding: 0;}#sk-container-id-4 div.sk-toggleable {background-color: white;}#sk-container-id-4 label.sk-toggleable__label {cursor: pointer;display: block;width: 100%;margin-bottom: 0;padding: 0.3em;box-sizing: border-box;text-align: center;}#sk-container-id-4 label.sk-toggleable__label-arrow:before {content: \"▸\";float: left;margin-right: 0.25em;color: #696969;}#sk-container-id-4 label.sk-toggleable__label-arrow:hover:before {color: black;}#sk-container-id-4 div.sk-estimator:hover label.sk-toggleable__label-arrow:before {color: black;}#sk-container-id-4 div.sk-toggleable__content {max-height: 0;max-width: 0;overflow: hidden;text-align: left;background-color: #f0f8ff;}#sk-container-id-4 div.sk-toggleable__content pre {margin: 0.2em;color: black;border-radius: 0.25em;background-color: #f0f8ff;}#sk-container-id-4 input.sk-toggleable__control:checked~div.sk-toggleable__content {max-height: 200px;max-width: 100%;overflow: auto;}#sk-container-id-4 input.sk-toggleable__control:checked~label.sk-toggleable__label-arrow:before {content: \"▾\";}#sk-container-id-4 div.sk-estimator input.sk-toggleable__control:checked~label.sk-toggleable__label {background-color: #d4ebff;}#sk-container-id-4 div.sk-label input.sk-toggleable__control:checked~label.sk-toggleable__label {background-color: #d4ebff;}#sk-container-id-4 input.sk-hidden--visually {border: 0;clip: rect(1px 1px 1px 1px);clip: rect(1px, 1px, 1px, 1px);height: 1px;margin: -1px;overflow: hidden;padding: 0;position: absolute;width: 1px;}#sk-container-id-4 div.sk-estimator {font-family: monospace;background-color: #f0f8ff;border: 1px dotted black;border-radius: 0.25em;box-sizing: border-box;margin-bottom: 0.5em;}#sk-container-id-4 div.sk-estimator:hover {background-color: #d4ebff;}#sk-container-id-4 div.sk-parallel-item::after {content: \"\";width: 100%;border-bottom: 1px solid gray;flex-grow: 1;}#sk-container-id-4 div.sk-label:hover label.sk-toggleable__label {background-color: #d4ebff;}#sk-container-id-4 div.sk-serial::before {content: \"\";position: absolute;border-left: 1px solid gray;box-sizing: border-box;top: 0;bottom: 0;left: 50%;z-index: 0;}#sk-container-id-4 div.sk-serial {display: flex;flex-direction: column;align-items: center;background-color: white;padding-right: 0.2em;padding-left: 0.2em;position: relative;}#sk-container-id-4 div.sk-item {position: relative;z-index: 1;}#sk-container-id-4 div.sk-parallel {display: flex;align-items: stretch;justify-content: center;background-color: white;position: relative;}#sk-container-id-4 div.sk-item::before, #sk-container-id-4 div.sk-parallel-item::before {content: \"\";position: absolute;border-left: 1px solid gray;box-sizing: border-box;top: 0;bottom: 0;left: 50%;z-index: -1;}#sk-container-id-4 div.sk-parallel-item {display: flex;flex-direction: column;z-index: 1;position: relative;background-color: white;}#sk-container-id-4 div.sk-parallel-item:first-child::after {align-self: flex-end;width: 50%;}#sk-container-id-4 div.sk-parallel-item:last-child::after {align-self: flex-start;width: 50%;}#sk-container-id-4 div.sk-parallel-item:only-child::after {width: 0;}#sk-container-id-4 div.sk-dashed-wrapped {border: 1px dashed gray;margin: 0 0.4em 0.5em 0.4em;box-sizing: border-box;padding-bottom: 0.4em;background-color: white;}#sk-container-id-4 div.sk-label label {font-family: monospace;font-weight: bold;display: inline-block;line-height: 1.2em;}#sk-container-id-4 div.sk-label-container {text-align: center;}#sk-container-id-4 div.sk-container {/* jupyter's `normalize.less` sets `[hidden] { display: none; }` but bootstrap.min.css set `[hidden] { display: none !important; }` so we also need the `!important` here to be able to override the default hidden behavior on the sphinx rendered scikit-learn.org. See: https://github.com/scikit-learn/scikit-learn/issues/21755 */display: inline-block !important;position: relative;}#sk-container-id-4 div.sk-text-repr-fallback {display: none;}</style><div id=\"sk-container-id-4\" class=\"sk-top-container\"><div class=\"sk-text-repr-fallback\"><pre>MLPClassifier(max_iter=300, random_state=1)</pre><b>In a Jupyter environment, please rerun this cell to show the HTML representation or trust the notebook. <br />On GitHub, the HTML representation is unable to render, please try loading this page with nbviewer.org.</b></div><div class=\"sk-container\" hidden><div class=\"sk-item\"><div class=\"sk-estimator sk-toggleable\"><input class=\"sk-toggleable__control sk-hidden--visually\" id=\"sk-estimator-id-4\" type=\"checkbox\" checked><label for=\"sk-estimator-id-4\" class=\"sk-toggleable__label sk-toggleable__label-arrow\">MLPClassifier</label><div class=\"sk-toggleable__content\"><pre>MLPClassifier(max_iter=300, random_state=1)</pre></div></div></div></div></div>"
      ],
      "text/plain": [
       "MLPClassifier(max_iter=300, random_state=1)"
      ]
     },
     "execution_count": 37,
     "metadata": {},
     "output_type": "execute_result"
    }
   ],
   "source": [
    "mlp = MLPClassifier(random_state=1, max_iter=300)\n",
    "mlp.fit(train_X, train_y)"
   ]
  },
  {
   "cell_type": "code",
   "execution_count": 38,
   "metadata": {
    "execution": {
     "iopub.execute_input": "2022-09-20T07:33:09.601703Z",
     "iopub.status.busy": "2022-09-20T07:33:09.600671Z",
     "iopub.status.idle": "2022-09-20T07:33:10.218538Z",
     "shell.execute_reply": "2022-09-20T07:33:10.21731Z",
     "shell.execute_reply.started": "2022-09-20T07:33:09.601667Z"
    },
    "id": "QBFNk4JSGcIo",
    "outputId": "03066b5a-ea09-4e9f-ac7e-af5375fcc5cc"
   },
   "outputs": [
    {
     "name": "stdout",
     "output_type": "stream",
     "text": [
      "Accuracy on Validation set : 0.8837148491550723\n",
      "\n",
      "\n",
      "              precision    recall  f1-score   support\n",
      "\n",
      "           0       0.92      0.92      0.92     68017\n",
      "           1       0.77      0.78      0.78     23766\n",
      "\n",
      "    accuracy                           0.88     91783\n",
      "   macro avg       0.85      0.85      0.85     91783\n",
      "weighted avg       0.88      0.88      0.88     91783\n",
      "\n",
      "CPU times: user 1.68 s, sys: 1.03 s, total: 2.71 s\n",
      "Wall time: 2.83 s\n"
     ]
    }
   ],
   "source": [
    "%%time\n",
    "y_pred_val_mlp = mlp.predict(val_X)\n",
    "print('Accuracy on Validation set :',accuracy_score(val_y, y_pred_val_mlp))\n",
    "print(\"\\n\")\n",
    "print(classification_report(val_y, y_pred_val_mlp))"
   ]
  },
  {
   "cell_type": "code",
   "execution_count": 39,
   "metadata": {
    "execution": {
     "iopub.execute_input": "2022-09-20T07:33:10.221025Z",
     "iopub.status.busy": "2022-09-20T07:33:10.220052Z",
     "iopub.status.idle": "2022-09-20T07:33:10.604677Z",
     "shell.execute_reply": "2022-09-20T07:33:10.603744Z",
     "shell.execute_reply.started": "2022-09-20T07:33:10.220985Z"
    },
    "id": "GDmtloBgGgY4",
    "outputId": "0fc8bfd0-e8b4-4dc2-8cbf-3d4bcd763311"
   },
   "outputs": [
    {
     "data": {
      "text/plain": [
       "<AxesSubplot:>"
      ]
     },
     "execution_count": 39,
     "metadata": {},
     "output_type": "execute_result"
    },
    {
     "data": {
      "image/png": "[encoded data removed]",
      "text/plain": [
       "<Figure size 432x288 with 2 Axes>"
      ]
     },
     "metadata": {
      "needs_background": "light"
     },
     "output_type": "display_data"
    }
   ],
   "source": [
    "cf_matrix = confusion_matrix(val_y, y_pred_val_mlp)\n",
    "sns.heatmap(cf_matrix/np.sum(cf_matrix), annot=True, \n",
    "            fmt='.2%', cmap='Purples')"
   ]
  },
  {
   "cell_type": "code",
   "execution_count": 153,
   "metadata": {},
   "outputs": [
    {
     "name": "stdout",
     "output_type": "stream",
     "text": [
      "Accuracy = 88.4%\n",
      "Confusion matrix = \n",
      "[[62613  5404]\n",
      " [ 5269 18497]]\n",
      "Precision = 77.4%\n",
      "Recall    = 77.8%\n"
     ]
    }
   ],
   "source": [
    "accuracy = metrics.accuracy_score(val_y, y_pred_val_mlp) \n",
    "print(\"Accuracy = {:0.1f}%\".format(accuracy * 100))\n",
    "\n",
    "# The matrix of predictions and true values for each class.\n",
    "conf_matrix = metrics.confusion_matrix(val_y, y_pred_val_mlp)\n",
    "print(\"Confusion matrix = \")\n",
    "print(conf_matrix)\n",
    "\n",
    "# Precision score.\n",
    "precision = metrics.precision_score(val_y, y_pred_val_mlp)\n",
    "print(\"Precision = {:0.1f}%\".format(100 * precision))\n",
    "\n",
    "# Recall score.\n",
    "recall = metrics.recall_score(val_y, y_pred_val_mlp)\n",
    "print(\"Recall    = {:0.1f}%\".format(100 * recall))"
   ]
  },
  {
   "cell_type": "code",
   "execution_count": 40,
   "metadata": {},
   "outputs": [
    {
     "name": "stdout",
     "output_type": "stream",
     "text": [
      "The AUC of the model is: 0.8494230004309913\n"
     ]
    },
    {
     "data": {
      "image/png": "[encoded data removed]",
      "text/plain": [
       "<Figure size 432x288 with 1 Axes>"
      ]
     },
     "metadata": {
      "needs_background": "light"
     },
     "output_type": "display_data"
    }
   ],
   "source": [
    "print('The AUC of the model is:', roc_auc_score(val_y, y_pred_val_mlp, multi_class='ovr'))\n",
    "\n",
    "RocCurveDisplay.from_predictions(\n",
    "    val_y,\n",
    "    y_pred_val_mlp,\n",
    "    color=\"purple\",\n",
    ")\n",
    "plt.plot([0, 1], [0, 1] , color = 'grey')\n",
    "plt.axis(\"square\")\n",
    "plt.xlabel(\"False Positive Rate\")\n",
    "plt.ylabel(\"True Positive Rate\")\n",
    "plt.title(\"ROC curve\")\n",
    "plt.legend()\n",
    "plt.show()"
   ]
  },
  {
   "cell_type": "markdown",
   "metadata": {
    "id": "sIyn5JyGDWRY"
   },
   "source": [
    "**Listing Accuracies on Validation Data by Models so far**"
   ]
  },
  {
   "cell_type": "code",
   "execution_count": 41,
   "metadata": {
    "execution": {
     "iopub.execute_input": "2022-09-20T07:33:10.986231Z",
     "iopub.status.busy": "2022-09-20T07:33:10.983774Z",
     "iopub.status.idle": "2022-09-20T07:33:11.094429Z",
     "shell.execute_reply": "2022-09-20T07:33:11.093569Z",
     "shell.execute_reply.started": "2022-09-20T07:33:10.986193Z"
    },
    "id": "FKta4yAFDYKV",
    "outputId": "769e151f-da91-47fd-99cc-61755a101555"
   },
   "outputs": [
    {
     "name": "stdout",
     "output_type": "stream",
     "text": [
      "\n",
      "Accuracy of the Logistic Regression : 0.8974210910517199\n",
      "\n",
      "Accuracy of the Decision Tree : 0.8442522035671094\n",
      "\n",
      "Accuracy of the Neural Network : 0.8837148491550723\n",
      "\n",
      "Accuracy of the XGBoost : 0.8972794526219452\n"
     ]
    }
   ],
   "source": [
    "print('\\nAccuracy of the Logistic Regression :',accuracy_score(val_y, y_pred_val_lr))\n",
    "print('\\nAccuracy of the Decision Tree :',accuracy_score(val_y, y_pred_val_dc))\n",
    "print('\\nAccuracy of the Neural Network :',accuracy_score(val_y, y_pred_val_mlp))\n",
    "print('\\nAccuracy of the XGBoost :',accuracy_score(val_y, y_pred_val_xgb))"
   ]
  },
  {
   "cell_type": "markdown",
   "metadata": {
    "id": "sIyn5JyGDWRY"
   },
   "source": [
    "**Listing ROC by Models so far**"
   ]
  },
  {
   "cell_type": "code",
   "execution_count": 42,
   "metadata": {},
   "outputs": [
    {
     "name": "stdout",
     "output_type": "stream",
     "text": [
      "ROC of Logistic Regression : 0.8593687436089307\n",
      "\n",
      "ROC of Decision Tree : 0.7964354583743192\n",
      "\n",
      "ROC of Neural Network : 0.8494230004309913\n",
      "\n",
      "ROC of XGBoost : 0.8636805075428945\n"
     ]
    }
   ],
   "source": [
    "print('ROC of Logistic Regression :', roc_auc_score(val_y, y_pred_val_lr, multi_class='ovr'))\n",
    "print('\\nROC of Decision Tree :', roc_auc_score(val_y, y_pred_val_dc, multi_class='ovr'))\n",
    "print('\\nROC of Neural Network :', roc_auc_score(val_y, y_pred_val_mlp, multi_class='ovr'))\n",
    "print('\\nROC of XGBoost :', roc_auc_score(val_y, y_pred_val_xgb, multi_class='ovr'))"
   ]
  },
  {
   "cell_type": "markdown",
   "metadata": {
    "id": "DnCmxTH1v1fY"
   },
   "source": [
    "# Inferences\n",
    "\n",
    "The best accuracy is obtained using Light GBM Classifier.\n",
    "\n",
    "# Points for Future Scope\n",
    "\n",
    "\n",
    "*   Using PCA during Pre-processing to select the important contributing factors\n",
    "*   Using a Custom Neural Network\n"
   ]
  },
  {
   "cell_type": "code",
   "execution_count": 43,
   "metadata": {},
   "outputs": [
    {
     "data": {
      "image/png": "[encoded data removed]",
      "text/plain": [
       "<Figure size 432x288 with 1 Axes>"
      ]
     },
     "metadata": {
      "needs_background": "light"
     },
     "output_type": "display_data"
    }
   ],
   "source": [
    "from xgboost import plot_importance\n",
    "from matplotlib import pyplot\n",
    "\n",
    "plot_importance(xgb, max_num_features=20, color = 'Purple')\n",
    "pyplot.show()"
   ]
  },
  {
   "cell_type": "code",
   "execution_count": 44,
   "metadata": {},
   "outputs": [],
   "source": [
    "from collections import Counter\n",
    "\n",
    "list_features = []\n",
    "\n",
    "features = xgb.get_booster().feature_names\n",
    "\n",
    "for i in features:\n",
    "    list_features.append(i[0])   \n",
    "\n",
    "list_features = Counter(list_features)\n",
    "keys = list_features.keys()\n",
    "values = list_features.values()\n"
   ]
  },
  {
   "cell_type": "code",
   "execution_count": 45,
   "metadata": {},
   "outputs": [
    {
     "data": {
      "image/png": "[encoded data removed]",
      "text/plain": [
       "<Figure size 432x288 with 1 Axes>"
      ]
     },
     "metadata": {},
     "output_type": "display_data"
    }
   ],
   "source": [
    "sns.set_palette(palette='Purples', n_colors=5, desat=1)\n",
    "plt.pie(values, labels = keys, autopct='%.0f%%', radius=2)\n",
    "plt.show()"
   ]
  },
  {
   "cell_type": "code",
   "execution_count": 145,
   "metadata": {},
   "outputs": [
    {
     "data": {
      "text/plain": [
       "Counter({'P': 15, 'D': 480, 'B': 200, 'R': 140, 'S': 105})"
      ]
     },
     "execution_count": 145,
     "metadata": {},
     "output_type": "execute_result"
    }
   ],
   "source": [
    "list_features"
   ]
  },
  {
   "cell_type": "code",
   "execution_count": null,
   "metadata": {},
   "outputs": [],
   "source": []
  }
 ],
 "metadata": {
  "kernelspec": {
   "display_name": "Python 3 (ipykernel)",
   "language": "python",
   "name": "python3"
  },
  "language_info": {
   "codemirror_mode": {
    "name": "ipython",
    "version": 3
   },
   "file_extension": ".py",
   "mimetype": "text/x-python",
   "name": "python",
   "nbconvert_exporter": "python",
   "pygments_lexer": "ipython3",
   "version": "3.9.7"
  }
 },
 "nbformat": 4,
 "nbformat_minor": 4
}
